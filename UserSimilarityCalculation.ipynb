{
 "cells": [
  {
   "cell_type": "markdown",
   "metadata": {},
   "source": [
    "# User Similarity Calculation\n",
    "This section aims to find the 2 most similar users of one specifc user. Features used to calculate similarity are as follow:\n",
    "\n",
    "* Purchase record of subcategory\n",
    "* The style in purchase record\n",
    "\n",
    "### Purchase record of subcategory\n",
    "We don't directly use the purchase record. Instead, we normalize the original records by its maximum. For exmaple, if an user's purchase record is {'sub1':3,'sub2':1,'sub3':5,'sub4':2}. the converted one would be: {'sub1':0.6,'sub2':0.2,'sub3':1,'sub4':0.4}\n",
    "<br>\n",
    "Following are two reaons why we convert it:\n",
    "<br>\n",
    "#### Rule out the temporal effect to make comparison based on the same basis\n",
    "Consider following, if user A has a record like {'sub1':3,'sub2':1,'sub3':4,'sub4':2} while user B has  {'sub1':6,'sub2':2,'sub3':15,'sub4':3}. If we consider the orginial one, one might conclude that User B like sub3 more than A. However, it might because user B register in Pinkoi earlier than A. By normalization, we can compare them on the same ground.\n",
    "\n",
    "### Easy to trace the change of preference\n",
    "It could be achieved with the original one but it would be easier for normalize one since it represent each subcategory by percentage. This is useful when we want to test the novel/serendipity performance of recommendation system. When finding the some percentage of new subcategory surge in one user due to our recommendation system. We can conclude that this recommendation perform well in recommending novel/serenpditious product to user.\n",
    "\n",
    "### Implementation\n",
    "First we find the top 3 subcategory user prefere(MostComm &UserFeatureTransform). Second, we group user whose T1 subcategory is the same then calculate the similarity within this group"
   ]
  },
  {
   "cell_type": "code",
   "execution_count": 2,
   "metadata": {
    "collapsed": false
   },
   "outputs": [],
   "source": [
    "import pandas as pd\n",
    "import numpy as np\n",
    "from random import shuffle\n",
    "from collections import Counter"
   ]
  },
  {
   "cell_type": "code",
   "execution_count": 14,
   "metadata": {
    "collapsed": false
   },
   "outputs": [],
   "source": [
    "#Here we use cython to do a little bit speedup\n",
    "%load_ext Cython"
   ]
  },
  {
   "cell_type": "code",
   "execution_count": 9,
   "metadata": {
    "collapsed": true
   },
   "outputs": [],
   "source": [
    "#Find the most common subcategory of an user \n",
    "def MostComm(x,mosk,u):\n",
    "    subcat=x.split(\",\")\n",
    "    shuffle(subcat)\n",
    "    most_com=[e[0] for e in Counter(subcat).most_common(mosk)]\n",
    "    \n",
    "    if len(most_com)<u-1:\n",
    "        embed=[-1]*(u-1-len(most_com))\n",
    "        most_com.extend(embed)\n",
    "    return most_com"
   ]
  },
  {
   "cell_type": "code",
   "execution_count": 7,
   "metadata": {
    "collapsed": true
   },
   "outputs": [],
   "source": [
    "#Find the top 3 subcaegory of an user\n",
    "def UserFeatureTrans(u,k):\n",
    "    user_id=[]\n",
    "    for i in xrange(len(u)):\n",
    "        user_id.append(u'{s}'.format(s=i))\n",
    "    \n",
    "    User_feature=pd.DataFrame(index=range(len(u)),columns=['T1','T2','T3'])\n",
    "    User_feature.insert(0,'UID',user_id)\n",
    "    \n",
    "    Most_common=[MostComm(e,k,len(User_feature.columns)) for e in UserData.ix[:,'subcategory']]\n",
    "    \n",
    "    for i in xrange(len(User_feature)):\n",
    "        User_feature.ix[i,1:]=Most_common[i]\n",
    "    return User_feature"
   ]
  },
  {
   "cell_type": "code",
   "execution_count": 15,
   "metadata": {
    "collapsed": false
   },
   "outputs": [],
   "source": [
    "%%cython\n",
    "from libc.math cimport sqrt,pow\n",
    "\n",
    "def SimDesigner(x,y):\n",
    "    Dx=x.split(\",\")\n",
    "    Dy=y.split(\",\")\n",
    "\n",
    "    Cdx={}.fromkeys(Dx,0)\n",
    "    for e in Dx:\n",
    "        Cdx[e]+=1\n",
    "    Cdy={}.fromkeys(Dy,0)\n",
    "    for e in Dy:\n",
    "        Cdy[e]+=1\n",
    "    \n",
    "    Norm_cdx=sqrt(sum([e*e for e in Cdx.values()]))\n",
    "    Norm_cdy=sqrt(sum([e*e for e in Cdy.values()]))\n",
    "    \n",
    "    common=set(Cdx.keys()).intersection(Cdy.keys())\n",
    "    score=0.0\n",
    "    \n",
    "    if len(common)==0:\n",
    "        return score\n",
    "    else:\n",
    "        for k in common:\n",
    "            score+=Cdx[k]*Cdy[k]\n",
    "        return score/(Norm_cdx*Norm_cdy)\n",
    "    \n",
    "def SimSubcategory(x,y):\n",
    "    Dx=x.split(\",\")\n",
    "    Dy=y.split(\",\")\n",
    "    \n",
    "    Countx={}.fromkeys(Dx,0)\n",
    "    for e in Dx:\n",
    "        Countx[e]+=1\n",
    "    County={}.fromkeys(Dy,0)\n",
    "    for e in Dy:\n",
    "        County[e]+=1\n",
    "    \n",
    "    max_x=max(Countx.values())\n",
    "    max_y=max(County.values())\n",
    "    \n",
    "    for kx in Countx.keys():\n",
    "        Countx[kx]=float(Countx[kx])/float(max_x)\n",
    "    for ky in County.keys():\n",
    "        County[ky]=float(County[ky])/float(max_y)\n",
    "    \n",
    "    Norm_cdx=sqrt(sum([e*e for e in Countx.values()]))\n",
    "    Norm_cdy=sqrt(sum([e*e for e in County.values()]))\n",
    "\n",
    "    common=set(Countx.keys()).intersection(County.keys())\n",
    "\n",
    "    score=0.0\n",
    "    if len(common)==0:\n",
    "        return score\n",
    "    else:\n",
    "        for k in common:\n",
    "            score+=Countx[k]*County[k]\n",
    "        return score/(Norm_cdx*Norm_cdy)\n",
    "\n",
    "def SimStyle(x,y):\n",
    "\n",
    "    Dx=x.split(\",\")\n",
    "    Dy=y.split(\",\")\n",
    "    Dx=[e[1:] for e in Dx if Dx.index(e)!=0]\n",
    "    Dy=[e[1:] for e in Dy if Dy.index(e)!=0]\n",
    " \n",
    "    Cdx={}.fromkeys(Dx,0)\n",
    "    for e in Dx:\n",
    "        Cdx[e]+=1\n",
    "    Cdy={}.fromkeys(Dy,0)\n",
    "    for e in Dy:\n",
    "        Cdy[e]+=1\n",
    "    \n",
    "    Norm_cdx=sqrt(sum([e*e for e in Cdx.values()]))\n",
    "    Norm_cdy=sqrt(sum([e*e for e in Cdy.values()]))\n",
    "    common=set(Cdx.keys()).intersection(Cdy.keys())\n",
    "\n",
    "    score=0.0\n",
    "    \n",
    "    if len(common)==0:\n",
    "        return score\n",
    "    else:\n",
    "        for k in common:\n",
    "            score+=Cdx[k]*Cdy[k]\n",
    "        return score/(Norm_cdx*Norm_cdy)\n",
    "\n",
    "def TakeTopN(l,n):\n",
    "    tmpN=[]\n",
    "    tmp_sort=sorted([e[1] for e in l],reverse=True)\n",
    "    tmpN=[e[0] for e in l if e[1] in tmp_sort[0:n]]\n",
    "    return tmpN"
   ]
  },
  {
   "cell_type": "code",
   "execution_count": 16,
   "metadata": {
    "collapsed": true
   },
   "outputs": [],
   "source": [
    "def SimWeight(x,y):\n",
    "    ci=UserData.ix[x,'Content weight']\n",
    "    si=UserData.ix[x,'Style weight']\n",
    "    cj=UserData.ix[y,'Content weight']\n",
    "    sj=UserData.ix[y,'Style weight']\n",
    "    \n",
    "    li=np.sqrt(pow(ci,2)+pow(si,2))\n",
    "    lj=np.sqrt(pow(cj,2)+pow(sj,2))\n",
    "    \n",
    "    return (ci*cj+si*sj)/(li*lj)"
   ]
  },
  {
   "cell_type": "code",
   "execution_count": 21,
   "metadata": {
    "collapsed": false
   },
   "outputs": [],
   "source": [
    "def SimularityCal(df,k):\n",
    "    UserSim_df=pd.DataFrame(index=range(len(df)),columns=range(k))\n",
    "    for i in xrange(len(df)):\n",
    "        print \"Customer \"+str(i)\n",
    "        ui=[]\n",
    "        TopN=[]\n",
    "        mask_idx=[e for e in User_feature[User_feature['T1']==User_feature.ix[i,'T1']].index if e!=0]\n",
    "        if len(mask_idx)==0:\n",
    "            mask_idx=[e for e in User_feature[User_feature['T2']==User_feature.ix[i,'T2']].index if e!=0]\n",
    "        \n",
    "        data_filtered=df.ix[mask_idx,:]\n",
    "\n",
    "        designer_score=np.array([SimDesigner(df.ix[i,'designer'],e) for e in data_filtered['designer']])\n",
    "        category_score=np.array([SimSubcategory(df.ix[i,'subcategory'],e) for e in data_filtered['subcategory']])\n",
    "        style_score=np.array([SimStyle(df.ix[i,'Product Tag'],e) for e in data_filtered['Product Tag']])\n",
    "        weight_score=np.array([SimWeight(i,e) for e in mask_idx])\n",
    "        sim_score=list(designer_score+category_score+style_score+weight_score)\n",
    "        #print sim_score\n",
    "        ui=[(mask_idx[sim_score.index(e)],e)for e in sim_score]\n",
    "\n",
    "        if len(ui)!=0:\n",
    "            TopN=TakeTopN(ui,k)\n",
    "            UserSim_df.ix[i,:]=TopN\n",
    "        else:\n",
    "            UserSim_df.ix[i,:]=i\n",
    "    return UserSim_df        "
   ]
  },
  {
   "cell_type": "code",
   "execution_count": 3,
   "metadata": {
    "collapsed": false
   },
   "outputs": [],
   "source": [
    "UserData=pd.read_csv(\"Intermediate/SimUserData.csv\",sep=\",\",encoding='utf8')"
   ]
  },
  {
   "cell_type": "code",
   "execution_count": 8,
   "metadata": {
    "collapsed": false
   },
   "outputs": [
    {
     "data": {
      "text/html": [
       "<div style=\"max-height:1000px;max-width:1500px;overflow:auto;\">\n",
       "<table border=\"1\" class=\"dataframe\">\n",
       "  <thead>\n",
       "    <tr style=\"text-align: right;\">\n",
       "      <th></th>\n",
       "      <th>UID</th>\n",
       "      <th>designer</th>\n",
       "      <th>tid</th>\n",
       "      <th>subcategory</th>\n",
       "      <th>Product Tag</th>\n",
       "      <th>Content weight</th>\n",
       "      <th>Style weight</th>\n",
       "      <th>Browse</th>\n",
       "    </tr>\n",
       "  </thead>\n",
       "  <tbody>\n",
       "    <tr>\n",
       "      <th>0</th>\n",
       "      <td> 0</td>\n",
       "      <td> panicjunkie,beanbeancase,lovespringtime,innere...</td>\n",
       "      <td> 1LNcMozq,1fKcWUPZ,1dWKrV5w,1NrPloT8,1xo784ZW,1...</td>\n",
       "      <td> iPhone 週邊,Android 週邊,肩背包/斜背包,平板/電腦保護套,電腦包,束口後背...</td>\n",
       "      <td> 三星,google,htc,押花,nexus,note5,自然,特別,iPhone 週邊,禮...</td>\n",
       "      <td> 0.050896</td>\n",
       "      <td> 0.949104</td>\n",
       "      <td>                            1tLIr0zx</td>\n",
       "    </tr>\n",
       "    <tr>\n",
       "      <th>1</th>\n",
       "      <td> 1</td>\n",
       "      <td> edie,googoods,wakakuwa,kimmidoll,wunghuh,daffo...</td>\n",
       "      <td> 1R9IzDnu,149GTys_,18H5ZFLX,159QNvoZ,1z4JPC9Z,1...</td>\n",
       "      <td> 胸針,項鍊/墜子,髮飾,鑰匙圈/鑰匙包,耳環,胸針,項鍊/墜子,髮飾,鑰匙圈/鑰匙包,耳環,...</td>\n",
       "      <td> fashion,羊毛氈,日本花簪,項鍊,胸章,兒童,迷你小相本鑰匙圈◆幾何系列◆,desig...</td>\n",
       "      <td> 0.806415</td>\n",
       "      <td> 0.193585</td>\n",
       "      <td>                                   0</td>\n",
       "    </tr>\n",
       "    <tr>\n",
       "      <th>2</th>\n",
       "      <td> 2</td>\n",
       "      <td> deliatai,oone-n-only,tsukiniyorosiku,twine,ses...</td>\n",
       "      <td> 1EB9FX2e,1MZaVziY,1YY6E82N,1TaTLdiX,14yhgn_L,1...</td>\n",
       "      <td> 胸針,項鍊/墜子,髮飾,鑰匙圈/鑰匙包,耳環,胸針,項鍊/墜子,髮飾,鑰匙圈/鑰匙包,耳環,...</td>\n",
       "      <td> ses,胸章,鑰匙圈,創意,design,純銀項鍊,韓風髮箍,kkk.首飾りnecklace...</td>\n",
       "      <td> 0.036503</td>\n",
       "      <td> 0.963497</td>\n",
       "      <td>                   1r3ZCWTo,1r_VB2EE</td>\n",
       "    </tr>\n",
       "    <tr>\n",
       "      <th>3</th>\n",
       "      <td> 3</td>\n",
       "      <td> iamidesign,littleprince,everythinginbetween,si...</td>\n",
       "      <td>      14Rq3sEa,1VTZwwBQ,1xoV23DQ,1f1NhrOS,1XBJ0jUP</td>\n",
       "      <td>         iPhone 週邊,Android 週邊,肩背包/斜背包,平板/電腦保護套,其他7</td>\n",
       "      <td> mini,love,cute,萌,悠遊卡手機殼,ipadmini,貓,可愛,悠遊卡保護殼,i...</td>\n",
       "      <td> 0.883987</td>\n",
       "      <td> 0.116013</td>\n",
       "      <td>                                   0</td>\n",
       "    </tr>\n",
       "    <tr>\n",
       "      <th>4</th>\n",
       "      <td> 4</td>\n",
       "      <td> bang-on-shop,pollinosis,lunablue,nadia,ishan13...</td>\n",
       "      <td> 1xfaWs4D,1lwO72OY,1unlj5pu,1ukhY4Bu,1xHzNBML,1...</td>\n",
       "      <td> 胸針,項鍊/墜子,髮飾,鑰匙圈/鑰匙包,耳環,胸針,項鍊/墜子,髮飾,鑰匙圈/鑰匙包,耳環,...</td>\n",
       "      <td> 雙鍊,小物,項鍊,仿珍珠,蕾絲,施華洛世奇水晶,懷錶,創意,design,婚禮,復古手工耳環...</td>\n",
       "      <td> 0.591378</td>\n",
       "      <td> 0.408622</td>\n",
       "      <td> 1MLRlJzi,1w9Pu9rP,1UJkCb2H,1SFUDbQV</td>\n",
       "    </tr>\n",
       "  </tbody>\n",
       "</table>\n",
       "</div>"
      ],
      "text/plain": [
       "   UID                                           designer  \\\n",
       "0    0  panicjunkie,beanbeancase,lovespringtime,innere...   \n",
       "1    1  edie,googoods,wakakuwa,kimmidoll,wunghuh,daffo...   \n",
       "2    2  deliatai,oone-n-only,tsukiniyorosiku,twine,ses...   \n",
       "3    3  iamidesign,littleprince,everythinginbetween,si...   \n",
       "4    4  bang-on-shop,pollinosis,lunablue,nadia,ishan13...   \n",
       "\n",
       "                                                 tid  \\\n",
       "0  1LNcMozq,1fKcWUPZ,1dWKrV5w,1NrPloT8,1xo784ZW,1...   \n",
       "1  1R9IzDnu,149GTys_,18H5ZFLX,159QNvoZ,1z4JPC9Z,1...   \n",
       "2  1EB9FX2e,1MZaVziY,1YY6E82N,1TaTLdiX,14yhgn_L,1...   \n",
       "3       14Rq3sEa,1VTZwwBQ,1xoV23DQ,1f1NhrOS,1XBJ0jUP   \n",
       "4  1xfaWs4D,1lwO72OY,1unlj5pu,1ukhY4Bu,1xHzNBML,1...   \n",
       "\n",
       "                                         subcategory  \\\n",
       "0  iPhone �梢�,Android �梢�,�抵��������撟單�/�餉�靽�風憟��餉������敺��...   \n",
       "1  �賊�,���/憓��,擃桅ˇ,�啣����啣����喟�,�賊�,���/憓��,擃桅ˇ,�啣����啣����喟�,...   \n",
       "2  �賊�,���/憓��,擃桅ˇ,�啣����啣����喟�,�賊�,���/憓��,擃桅ˇ,�啣����啣����喟�,...   \n",
       "3          iPhone �梢�,Android �梢�,�抵��������撟單�/�餉�靽�風憟��嗡�7   \n",
       "4  �賊�,���/憓��,擃桅ˇ,�啣����啣����喟�,�賊�,���/憓��,擃桅ˇ,�啣����啣����喟�,...   \n",
       "\n",
       "                                         Product Tag  Content weight  \\\n",
       "0  銝��,google,htc,�潸�,nexus,note5,�芰�,�孵�,iPhone �梢�,蝳�..        0.050896   \n",
       "1  fashion,蝢��瘞��交��梁高,���,�貊�,��咱,餈瑚�撠���祇������嗾雿�頂���,desig...        0.806415   \n",
       "2  ses,�貊�,�啣����菜�,design,蝝�����,��◢擃桃�,kkk.擐�ˇ��ecklace...        0.036503   \n",
       "3  mini,love,cute,������⊥�璈�挺,ipadmini,鞎��舀�,����∩�霅瑟挺,i...        0.883987   \n",
       "4  ���,撠��,���,隞輻����曄結,�質�瘣��憟�偌���琿�,�菜�,design,憍�旨,敺拙���極�喟�...        0.591378   \n",
       "\n",
       "   Style weight                               Browse  \n",
       "0      0.949104                             1tLIr0zx  \n",
       "1      0.193585                                    0  \n",
       "2      0.963497                    1r3ZCWTo,1r_VB2EE  \n",
       "3      0.116013                                    0  \n",
       "4      0.408622  1MLRlJzi,1w9Pu9rP,1UJkCb2H,1SFUDbQV  "
      ]
     },
     "execution_count": 8,
     "metadata": {},
     "output_type": "execute_result"
    }
   ],
   "source": [
    "UserData.head()"
   ]
  },
  {
   "cell_type": "code",
   "execution_count": 4,
   "metadata": {
    "collapsed": false
   },
   "outputs": [],
   "source": [
    "Product=pd.read_csv(\"Intermediate/feature_p.csv\",sep=\",\",encoding='utf8')\n",
    "Style_feature=list(Product.ix[:,0])"
   ]
  },
  {
   "cell_type": "code",
   "execution_count": 5,
   "metadata": {
    "collapsed": false
   },
   "outputs": [],
   "source": [
    "Designer=pd.read_csv(\"Intermediate/designer_data_list.csv\",encoding='utf8',header=None)\n",
    "Design_feature=list(Designer.ix[:,0])"
   ]
  },
  {
   "cell_type": "code",
   "execution_count": 10,
   "metadata": {
    "collapsed": false
   },
   "outputs": [],
   "source": [
    "User_feature=UserFeatureTrans(UserData,3)"
   ]
  },
  {
   "cell_type": "code",
   "execution_count": 11,
   "metadata": {
    "collapsed": false
   },
   "outputs": [
    {
     "data": {
      "text/html": [
       "<div>\n",
       "<table border=\"1\" class=\"dataframe\">\n",
       "  <thead>\n",
       "    <tr style=\"text-align: right;\">\n",
       "      <th></th>\n",
       "      <th>UID</th>\n",
       "      <th>T1</th>\n",
       "      <th>T2</th>\n",
       "      <th>T3</th>\n",
       "    </tr>\n",
       "  </thead>\n",
       "  <tbody>\n",
       "    <tr>\n",
       "      <th>0</th>\n",
       "      <td>0</td>\n",
       "      <td>iPhone 週邊</td>\n",
       "      <td>電腦包</td>\n",
       "      <td>束口後背包</td>\n",
       "    </tr>\n",
       "    <tr>\n",
       "      <th>1</th>\n",
       "      <td>1</td>\n",
       "      <td>項鍊/墜子</td>\n",
       "      <td>耳環</td>\n",
       "      <td>髮飾</td>\n",
       "    </tr>\n",
       "    <tr>\n",
       "      <th>2</th>\n",
       "      <td>2</td>\n",
       "      <td>項鍊/墜子</td>\n",
       "      <td>鑰匙圈/鑰匙包</td>\n",
       "      <td>髮飾</td>\n",
       "    </tr>\n",
       "    <tr>\n",
       "      <th>3</th>\n",
       "      <td>3</td>\n",
       "      <td>其他7</td>\n",
       "      <td>平板/電腦保護套</td>\n",
       "      <td>Android 週邊</td>\n",
       "    </tr>\n",
       "    <tr>\n",
       "      <th>4</th>\n",
       "      <td>4</td>\n",
       "      <td>胸針</td>\n",
       "      <td>項鍊/墜子</td>\n",
       "      <td>髮飾</td>\n",
       "    </tr>\n",
       "  </tbody>\n",
       "</table>\n",
       "</div>"
      ],
      "text/plain": [
       "  UID         T1        T2          T3\n",
       "0   0  iPhone 週邊       電腦包       束口後背包\n",
       "1   1      項鍊/墜子        耳環          髮飾\n",
       "2   2      項鍊/墜子   鑰匙圈/鑰匙包          髮飾\n",
       "3   3        其他7  平板/電腦保護套  Android 週邊\n",
       "4   4         胸針     項鍊/墜子          髮飾"
      ]
     },
     "execution_count": 11,
     "metadata": {},
     "output_type": "execute_result"
    }
   ],
   "source": [
    "User_feature.head()"
   ]
  },
  {
   "cell_type": "code",
   "execution_count": 19,
   "metadata": {
    "collapsed": true
   },
   "outputs": [],
   "source": [
    "UserData['Product Tag']=UserData['Product Tag'].fillna(u'0')"
   ]
  },
  {
   "cell_type": "code",
   "execution_count": 22,
   "metadata": {
    "collapsed": false
   },
   "outputs": [],
   "source": [
    "UserDf=SimularityCal(UserData,2)"
   ]
  },
  {
   "cell_type": "code",
   "execution_count": null,
   "metadata": {
    "collapsed": true
   },
   "outputs": [],
   "source": [
    "UserDf.to_csv(\"Intermediate/Similarity_user.csv\",sep=\",\",encoding='utf8',index=False)"
   ]
  }
 ],
 "metadata": {
  "kernelspec": {
   "display_name": "Python 2",
   "language": "python",
   "name": "python2"
  },
  "language_info": {
   "codemirror_mode": {
    "name": "ipython",
    "version": 2
   },
   "file_extension": ".py",
   "mimetype": "text/x-python",
   "name": "python",
   "nbconvert_exporter": "python",
   "pygments_lexer": "ipython2",
   "version": "2.7.11"
  }
 },
 "nbformat": 4,
 "nbformat_minor": 0
}
