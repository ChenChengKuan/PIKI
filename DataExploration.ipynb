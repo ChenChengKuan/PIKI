{
 "cells": [
  {
   "cell_type": "markdown",
   "metadata": {},
   "source": [
    "# Exploratory of product data set\n",
    "In this section. We aims to look the general and important property of our data. We mainly focus on two parts: first part is the distribution of rantings and the second part is the popularity of the subcategory\n",
    "\n",
    "\n",
    "## Description of data set\n",
    "\n",
    "### Time of collection: 12/16-12/19\n",
    "The data was collected from pinkoi website. The date of collection was from 12/6 15:30 to 12/10 17:00\n",
    "However, I recolloected the subtag of each product from 12/16 14:30-12/19 08:00 due to some techniques errors.There are mismatch between products on 12/6-12/10 adn 12/16/-12/19. Consequently, I filtered out those mismatch data and **the valid time of data set is 12/16-12/19**\n",
    "\n",
    "### Field: total 22 fields\n",
    "* category: Parent category of the product, integer\n",
    "* discount: The discount of the produc, integer\n",
    "* free-shipping: Whether the product is free shipping or not, integer, 0 or 1\n",
    "* irev:I don't know\n",
    "* locale: Whether the product is local or not, string\n",
    "* oprice: Original price of the product, integer\n",
    "* owner: The unique ID of desinger in Pinkoi, string\n",
    "* price: The price of the product, it equals to oprice-discount, integer\n",
    "* store_name: The store opened by designer, string\n",
    "* tid: Unique id of the product in Pinkoi, string\n",
    "* title: Product name, string\n",
    "* translated_from_locale: Denote whether the website is translaed version\n",
    "* \\#R1: ratings rated as 1 stars, string\n",
    "* \\#R2: ratings rated as 2 stars, string\n",
    "* \\#R3: ratings rated as 3 stars. string\n",
    "* \\#R4: ratings rated as 4 stars, string\n",
    "* \\#R5: ratings rated as 5 stars, string\n",
    "* Number of buyers: number of buyers of a prodcut showed on webpage, string\n",
    "* Product tag: tag of product described by designer, string\n",
    "* sid, the name of designer\n",
    "* number of collection: number of collectioner of a prodcut showed on webpage, string\n",
    "* subcategory: subcatgory of the product, string\n",
    "\n"
   ]
  },
  {
   "cell_type": "code",
   "execution_count": 2,
   "metadata": {
    "collapsed": true
   },
   "outputs": [],
   "source": [
    "import pandas as pd\n",
    "import numpy as np\n",
    "from collections import Counter"
   ]
  },
  {
   "cell_type": "markdown",
   "metadata": {},
   "source": [
    "### Part 1: Overview of Ratings\n",
    "The first part aims to explore the distribution of ratings to get an overview of ratings, which is a reference of which algorithm of recommendser system to apply. The pre-processing of data in part 1 simply filter out the missing value of ratings"
   ]
  },
  {
   "cell_type": "code",
   "execution_count": 3,
   "metadata": {
    "collapsed": false
   },
   "outputs": [],
   "source": [
    "Data=pd.read_csv(\"input/data_raw.csv\",sep=\",\",encoding='utf8',low_memory=False)"
   ]
  },
  {
   "cell_type": "code",
   "execution_count": 4,
   "metadata": {
    "collapsed": false
   },
   "outputs": [
    {
     "data": {
      "text/plain": [
       "Index([u'category', u'discount', u'free_shipping', u'irev', u'locale',\n",
       "       u'oprice', u'owner', u'price', u'store_name', u'tid', u'title',\n",
       "       u'translated_from_locale', u'#R1', u'#R2', u'#R3', u'#R4', u'#R5',\n",
       "       u'Number of buyers', u'Product Tag', u'SID', u'number of collection',\n",
       "       u'subcategory'],\n",
       "      dtype='object')"
      ]
     },
     "execution_count": 4,
     "metadata": {},
     "output_type": "execute_result"
    }
   ],
   "source": [
    "Data.columns"
   ]
  },
  {
   "cell_type": "code",
   "execution_count": 5,
   "metadata": {
    "collapsed": false
   },
   "outputs": [],
   "source": [
    "#Drop duplicate\n",
    "Data=Data.drop_duplicates(subset=['tid'])"
   ]
  },
  {
   "cell_type": "code",
   "execution_count": 6,
   "metadata": {
    "collapsed": false
   },
   "outputs": [],
   "source": [
    "Data=Data[Data.ix[:,'subcategory']!='Missing']"
   ]
  },
  {
   "cell_type": "code",
   "execution_count": 7,
   "metadata": {
    "collapsed": false
   },
   "outputs": [],
   "source": [
    "Ratings=Data[['#R1','#R2','#R3','#R4','#R5']]"
   ]
  },
  {
   "cell_type": "code",
   "execution_count": 8,
   "metadata": {
    "collapsed": true
   },
   "outputs": [],
   "source": [
    "#The seting in crawler is that once one of rating is missing then all ratings are missing. \n",
    "#To filter missing value, we just need to arbitarily choose from #R1~#R5 \n",
    "Ratings=Ratings[Ratings['#R1']!='Missing']"
   ]
  },
  {
   "cell_type": "code",
   "execution_count": 9,
   "metadata": {
    "collapsed": false
   },
   "outputs": [],
   "source": [
    "Ratings.to_csv('Intermediate/ratings.csv',sep=\",\",encoding='utf8')"
   ]
  },
  {
   "cell_type": "code",
   "execution_count": 10,
   "metadata": {
    "collapsed": true
   },
   "outputs": [],
   "source": [
    "def Ratings_sum(r):\n",
    "    return sum([float(e) for e in r])\n",
    "    "
   ]
  },
  {
   "cell_type": "code",
   "execution_count": 11,
   "metadata": {
    "collapsed": false
   },
   "outputs": [
    {
     "data": {
      "text/html": [
       "<div>\n",
       "<table border=\"1\" class=\"dataframe\">\n",
       "  <thead>\n",
       "    <tr style=\"text-align: right;\">\n",
       "      <th></th>\n",
       "      <th>#R1</th>\n",
       "      <th>#R2</th>\n",
       "      <th>#R3</th>\n",
       "      <th>#R4</th>\n",
       "      <th>#R5</th>\n",
       "    </tr>\n",
       "  </thead>\n",
       "  <tbody>\n",
       "    <tr>\n",
       "      <th>0</th>\n",
       "      <td>0</td>\n",
       "      <td>0</td>\n",
       "      <td>0</td>\n",
       "      <td>0</td>\n",
       "      <td>50</td>\n",
       "    </tr>\n",
       "    <tr>\n",
       "      <th>1</th>\n",
       "      <td>0</td>\n",
       "      <td>0</td>\n",
       "      <td>0</td>\n",
       "      <td>4</td>\n",
       "      <td>46</td>\n",
       "    </tr>\n",
       "    <tr>\n",
       "      <th>2</th>\n",
       "      <td>0</td>\n",
       "      <td>0</td>\n",
       "      <td>0</td>\n",
       "      <td>1</td>\n",
       "      <td>49</td>\n",
       "    </tr>\n",
       "    <tr>\n",
       "      <th>3</th>\n",
       "      <td>0</td>\n",
       "      <td>0</td>\n",
       "      <td>0</td>\n",
       "      <td>3</td>\n",
       "      <td>47</td>\n",
       "    </tr>\n",
       "    <tr>\n",
       "      <th>4</th>\n",
       "      <td>0</td>\n",
       "      <td>0</td>\n",
       "      <td>0</td>\n",
       "      <td>3</td>\n",
       "      <td>47</td>\n",
       "    </tr>\n",
       "  </tbody>\n",
       "</table>\n",
       "</div>"
      ],
      "text/plain": [
       "  #R1 #R2 #R3 #R4 #R5\n",
       "0   0   0   0   0  50\n",
       "1   0   0   0   4  46\n",
       "2   0   0   0   1  49\n",
       "3   0   0   0   3  47\n",
       "4   0   0   0   3  47"
      ]
     },
     "execution_count": 11,
     "metadata": {},
     "output_type": "execute_result"
    }
   ],
   "source": [
    "Ratings.head()"
   ]
  },
  {
   "cell_type": "code",
   "execution_count": 12,
   "metadata": {
    "collapsed": false
   },
   "outputs": [],
   "source": [
    "#Take summation of R1,R2,R3,R4,R5 individually\n",
    "Ratings_list=[]\n",
    "for i in xrange(5):\n",
    "    Ratings_list.append(Ratings_sum(Ratings.ix[:,i]))"
   ]
  },
  {
   "cell_type": "code",
   "execution_count": 27,
   "metadata": {
    "collapsed": true
   },
   "outputs": [],
   "source": [
    "# A help fuction to lablel y value\n",
    "def autolabel(rects):\n",
    "    # attach some text labels\n",
    "    for rect in rects:\n",
    "        height = rect.get_height()\n",
    "        plt.text(rect.get_x() + rect.get_width()/2., 1.05*height,\n",
    "                '%d' % float(height),\n",
    "                ha='center', va='bottom')"
   ]
  },
  {
   "cell_type": "code",
   "execution_count": 14,
   "metadata": {
    "collapsed": true
   },
   "outputs": [],
   "source": [
    "%matplotlib inline\n",
    "import matplotlib.pyplot as plt"
   ]
  },
  {
   "cell_type": "code",
   "execution_count": 28,
   "metadata": {
    "collapsed": false
   },
   "outputs": [
    {
     "data": {
      "image/png": "[encoded data removed]",
      "text/plain": [
       "<matplotlib.figure.Figure at 0x7fca05f999d0>"
      ]
     },
     "metadata": {},
     "output_type": "display_data"
    }
   ],
   "source": [
    "rec=plt.bar(range(1,6),Ratings_list,align='center')\n",
    "plt.title(\"The distribution of ratings:from 1 to 5\")\n",
    "plt.xlabel('Ratings')\n",
    "plt.ylabel('number of ratings')\n",
    "\n",
    "autolabel(rec)"
   ]
  },
  {
   "cell_type": "markdown",
   "metadata": {},
   "source": [
    "### Discussion\n",
    "The percentage of each ratings:<br>\n",
    "1 stars: $ 0.18\\% $<br>\n",
    "2 stars: $ 0.17\\% $<br>\n",
    "3 stars: $ 0.94\\% $<br>\n",
    "4 stars: $ 5.36\\% $<br>\n",
    "5 stars: $ 93.3\\% $<br>\n",
    "\n",
    "Total number of ratings: $ 6474855 $\n",
    "\n",
    "As we can see the figure above, the number of ratings are quite skewed! We can infer that most customers are satisfied with out products.(5 stars). For the other ratings, I examined several customer feedback and found out two things:\n",
    "*  For the customer who gave 1 or 2 stars, the situaion is that the product received has serious defect.\n",
    "*  The most interesing is 3 stars, some customer gave 3 stars when the product is not 100％ like the pictures. However, some customers rated 3 stars but leave some messages like 很喜歡你們作品、好可愛, which express the emotion like 4 or 5 stars. It also happens when customers rate 4 stars\n",
    "\n",
    "In conclusion, most customers are satisfied with our products unless the products have serious defect. For 3~4 stars, some customers do have a little bit negative emotion such as 不過好像有點小 while some are still satisfied. It might be result from different scales of rating of the customer or even the contex happened(maybe a phone call interuption) when the customer rated. Hence the number $ 93.3\\% $ is just a lower bound \n",
    "\n",
    "It might be worthwhile to analyze the emotion scores of messages to compensate with the ratings, but rating itself is a not good proxy for customer preference, especially for EC like Pinkoi"
   ]
  },
  {
   "cell_type": "markdown",
   "metadata": {},
   "source": [
    "### Part 2 Popularity of Product"
   ]
  },
  {
   "cell_type": "markdown",
   "metadata": {},
   "source": [
    "This part aims to **determine which subcatgory is the most popular based on *the collection-purchase conversion rate***. Though I observed that the number of purchase showed in side bar is not real, I still use it as proxy based on an  asumption that their is a postive correlation between the purchase number showed in side bar and the real one. Rating is not considered as a factor since most customers like our product as mentioned in part 1. I assume the correlation might be low between ratings and popularity\n",
    "\n",
    "For the calculation of popularity, we use the formula below to estimate it:\n",
    "$$ p=a+b $$\n",
    "\n",
    "where p,a,b,dentoe popularity, number of purchase,number of collection and collection-purchase conversion rates respectively\n",
    "I assume that the higher purchase, collection and conversion rate are, the more popular it is.  I don't normalize this value(p) by the number of product in the subcategory. The reason is I assume the more products in one subcategory, the more poppular it is based on rule of demand and supply.\n",
    "\n",
    "For Missing values, the string 'Missing' is defined in crawler, which happen when crawler cannot retrieve specific data. The value nan might result from some unexpecte errors. We simply replace these values by zero"
   ]
  },
  {
   "cell_type": "code",
   "execution_count": 41,
   "metadata": {
    "collapsed": false
   },
   "outputs": [],
   "source": [
    "Popularity_data=Data[['category','subcategory','Number of buyers','number of collection']]"
   ]
  },
  {
   "cell_type": "code",
   "execution_count": 42,
   "metadata": {
    "collapsed": false
   },
   "outputs": [],
   "source": [
    "#Filter out the Missing subcategory\n",
    "Popularity_data=Popularity_data[Popularity_data['subcategory']!='Missing']\n",
    "Popularity_data=Popularity_data.reset_index(drop=True)"
   ]
  },
  {
   "cell_type": "code",
   "execution_count": 43,
   "metadata": {
    "collapsed": false
   },
   "outputs": [],
   "source": [
    "#This step might raise a warning message but we can simply ignore it.\n",
    "#Parse the number of purchase and collection\n",
    "Popularity_data['Number of buyers']=[float(e.split(\" \")[1]) if e!=u'0' else float(e) for e in Popularity_data['Number of buyers']]\n",
    "Popularity_data['number of collection']=[float(e.split(\" \")[1]) if e!=u'0' else float(e) for e in Popularity_data['number of collection']]"
   ]
  },
  {
   "cell_type": "code",
   "execution_count": 44,
   "metadata": {
    "collapsed": false
   },
   "outputs": [],
   "source": [
    "sub_cat=list(set(Popularity_data['subcategory']))"
   ]
  },
  {
   "cell_type": "code",
   "execution_count": 45,
   "metadata": {
    "collapsed": false
   },
   "outputs": [],
   "source": [
    "G_purchase=Popularity_data.groupby('subcategory')['Number of buyers'].apply(lambda x:sum(x.tolist()))  #Calculate the sum of purchase for each subcat\n",
    "G_collection=Popularity_data.groupby('subcategory')['number of collection'].apply(lambda x:sum(x.tolist()))#Calculate the sum of collection for each subcate\n",
    "#Popularity=pd.Series([e[0]/e[1] for e in zip(G_purchase,G_collection)],index=G_purchase.keys()) #Calculate collection-purchase converiosn rate\n",
    "#normalize=Popularity_data.groupby('subcategory')['number of collection'].apply(lambda x:x.tolist())\n",
    "Popularity=pd.Series([((e[0]+e[1])) for e in zip(G_purchase,G_collection)],index=G_purchase.keys()) #Calculate popularity\n"
   ]
  },
  {
   "cell_type": "code",
   "execution_count": 21,
   "metadata": {
    "collapsed": false
   },
   "outputs": [
    {
     "data": {
      "image/png": "[encoded data removed]",
      "text/plain": [
       "<matplotlib.figure.Figure at 0x7fca0a96d7d0>"
      ]
     },
     "metadata": {},
     "output_type": "display_data"
    }
   ],
   "source": [
    "#This piece of code is to fix some font error in matplotlib\n",
    "from matplotlib.font_manager import fontManager \n",
    "import os \n",
    " \n",
    "fig = plt.figure(figsize=(12,8)) \n",
    "ax = fig.add_subplot(111) \n",
    "plt.subplots_adjust(0, 0, 1, 1, 0, 0) \n",
    "plt.xticks([]) \n",
    "plt.yticks([]) \n",
    "x, y = 0.05, 0.18 \n",
    "fonts = [font.name for font in fontManager.ttflist if \n",
    "    os.path.exists(font.fname) and os.stat(font.fname).st_size>1e6] \n",
    "font = set(fonts) \n",
    "dy = (1.0-y)/(len(fonts)/4 + (len(fonts)%4!=0)) \n",
    "for font in fonts: \n",
    "    t = ax.text(x, y, u\"中文字體\", {'fontname':font, 'fontsize':14}, transform=ax.transAxes) \n",
    "    ax.text(x, y-dy/2, font, transform=ax.transAxes) \n",
    "    x += 0.25 \n",
    "    if x >= 1.0: \n",
    "        y += dy \n",
    "        x = 0.05 "
   ]
  },
  {
   "cell_type": "code",
   "execution_count": 30,
   "metadata": {
    "collapsed": true
   },
   "outputs": [],
   "source": [
    "import matplotlib\n",
    "matplotlib.rc(\"font\", family=\"TakaoPGothic\")"
   ]
  },
  {
   "cell_type": "code",
   "execution_count": 46,
   "metadata": {
    "collapsed": false
   },
   "outputs": [
    {
     "name": "stderr",
     "output_type": "stream",
     "text": [
      "/home/chenchengkuan/anaconda2/lib/python2.7/site-packages/ipykernel/__main__.py:1: FutureWarning: sort is deprecated, use sort_values(inplace=True) for for INPLACE sorting\n",
      "  if __name__ == '__main__':\n"
     ]
    }
   ],
   "source": [
    "Popularity.sort(ascending=False)"
   ]
  },
  {
   "cell_type": "code",
   "execution_count": 29,
   "metadata": {
    "collapsed": false
   },
   "outputs": [],
   "source": [
    "pd.DataFrame(Popularity).to_csv(\"Intermediate/Popularity.csv\",sep=\",\",encoding='utf8')"
   ]
  },
  {
   "cell_type": "code",
   "execution_count": 51,
   "metadata": {
    "collapsed": false
   },
   "outputs": [
    {
     "data": {
      "image/png": "[encoded data removed]",
      "text/plain": [
       "<matplotlib.figure.Figure at 0x7fca05a34450>"
      ]
     },
     "metadata": {},
     "output_type": "display_data"
    }
   ],
   "source": [
    "rec=plt.bar(range(10),Popularity[0:10].values,align='center')\n",
    "plt.title(\"The top 10 subcategory\")\n",
    "plt.xlabel('Subcategory')\n",
    "plt.ylabel('scores')\n",
    "xlb=list(Popularity[0:10].index)\n",
    "xlb[8]=u'寶寶'\n",
    "plt.xticks(range(10),xlb,rotation=45)\n",
    "\n",
    "autolabel(rec)"
   ]
  },
  {
   "cell_type": "markdown",
   "metadata": {},
   "source": [
    "Though the popularity is calculated by a rough estimation, It's still surprising to see that the top 1~10 category mostly contain products that match the taste of normal young lady.,,, Somehow Pinkoi style:)?  "
   ]
  },
  {
   "cell_type": "code",
   "execution_count": 31,
   "metadata": {
    "collapsed": false
   },
   "outputs": [
    {
     "data": {
      "text/html": [
       "<div>\n",
       "<table border=\"1\" class=\"dataframe\">\n",
       "  <thead>\n",
       "    <tr style=\"text-align: right;\">\n",
       "      <th></th>\n",
       "      <th>category</th>\n",
       "      <th>subcategory</th>\n",
       "      <th>Number of buyers</th>\n",
       "      <th>number of collection</th>\n",
       "    </tr>\n",
       "  </thead>\n",
       "  <tbody>\n",
       "    <tr>\n",
       "      <th>0</th>\n",
       "      <td>3</td>\n",
       "      <td>紙膠帶</td>\n",
       "      <td>49</td>\n",
       "      <td>173</td>\n",
       "    </tr>\n",
       "    <tr>\n",
       "      <th>1</th>\n",
       "      <td>10</td>\n",
       "      <td>糖果/軟糖</td>\n",
       "      <td>69</td>\n",
       "      <td>88</td>\n",
       "    </tr>\n",
       "    <tr>\n",
       "      <th>2</th>\n",
       "      <td>1</td>\n",
       "      <td>手提包</td>\n",
       "      <td>45</td>\n",
       "      <td>191</td>\n",
       "    </tr>\n",
       "    <tr>\n",
       "      <th>3</th>\n",
       "      <td>2</td>\n",
       "      <td>髮飾</td>\n",
       "      <td>124</td>\n",
       "      <td>553</td>\n",
       "    </tr>\n",
       "    <tr>\n",
       "      <th>4</th>\n",
       "      <td>2</td>\n",
       "      <td>髮飾</td>\n",
       "      <td>53</td>\n",
       "      <td>319</td>\n",
       "    </tr>\n",
       "  </tbody>\n",
       "</table>\n",
       "</div>"
      ],
      "text/plain": [
       "   category subcategory  Number of buyers  number of collection\n",
       "0         3         紙膠帶                49                   173\n",
       "1        10       糖果/軟糖                69                    88\n",
       "2         1         手提包                45                   191\n",
       "3         2          髮飾               124                   553\n",
       "4         2          髮飾                53                   319"
      ]
     },
     "execution_count": 31,
     "metadata": {},
     "output_type": "execute_result"
    }
   ],
   "source": [
    "Popularity_data.head()"
   ]
  },
  {
   "cell_type": "code",
   "execution_count": 32,
   "metadata": {
    "collapsed": true
   },
   "outputs": [],
   "source": [
    "def PopularityCal(df):\n",
    "    if df['number of collection']==0:\n",
    "        df['number of collection']=1.0\n",
    "    return (df['Number of buyers']+df['number of collection'])*(df['Number of buyers']/df['number of collection'])"
   ]
  },
  {
   "cell_type": "code",
   "execution_count": 33,
   "metadata": {
    "collapsed": false
   },
   "outputs": [],
   "source": [
    "Data['Popularity score']=Popularity_data.apply(PopularityCal,axis=1)"
   ]
  },
  {
   "cell_type": "code",
   "execution_count": 34,
   "metadata": {
    "collapsed": false
   },
   "outputs": [
    {
     "data": {
      "text/html": [
       "<div>\n",
       "<table border=\"1\" class=\"dataframe\">\n",
       "  <thead>\n",
       "    <tr style=\"text-align: right;\">\n",
       "      <th></th>\n",
       "      <th>category</th>\n",
       "      <th>discount</th>\n",
       "      <th>free_shipping</th>\n",
       "      <th>irev</th>\n",
       "      <th>locale</th>\n",
       "      <th>oprice</th>\n",
       "      <th>owner</th>\n",
       "      <th>price</th>\n",
       "      <th>store_name</th>\n",
       "      <th>tid</th>\n",
       "      <th>...</th>\n",
       "      <th>#R2</th>\n",
       "      <th>#R3</th>\n",
       "      <th>#R4</th>\n",
       "      <th>#R5</th>\n",
       "      <th>Number of buyers</th>\n",
       "      <th>Product Tag</th>\n",
       "      <th>SID</th>\n",
       "      <th>number of collection</th>\n",
       "      <th>subcategory</th>\n",
       "      <th>Popularity score</th>\n",
       "    </tr>\n",
       "  </thead>\n",
       "  <tbody>\n",
       "    <tr>\n",
       "      <th>0</th>\n",
       "      <td>3</td>\n",
       "      <td>0</td>\n",
       "      <td>0</td>\n",
       "      <td>0</td>\n",
       "      <td>zh_TW</td>\n",
       "      <td>190</td>\n",
       "      <td>yuhuirustudio</td>\n",
       "      <td>190</td>\n",
       "      <td>歪的工作室</td>\n",
       "      <td>1fAYZRbb</td>\n",
       "      <td>...</td>\n",
       "      <td>0</td>\n",
       "      <td>0</td>\n",
       "      <td>0</td>\n",
       "      <td>50</td>\n",
       "      <td>共 49 人購買</td>\n",
       "      <td>紙膠帶</td>\n",
       "      <td>yuhuirustudio</td>\n",
       "      <td>共 173 人收藏</td>\n",
       "      <td>紙膠帶</td>\n",
       "      <td>62.878613</td>\n",
       "    </tr>\n",
       "    <tr>\n",
       "      <th>1</th>\n",
       "      <td>10</td>\n",
       "      <td>95</td>\n",
       "      <td>0</td>\n",
       "      <td>1</td>\n",
       "      <td>zh_TW</td>\n",
       "      <td>568</td>\n",
       "      <td>doggysweets</td>\n",
       "      <td>540</td>\n",
       "      <td>DULCET</td>\n",
       "      <td>1Wpbjtdt</td>\n",
       "      <td>...</td>\n",
       "      <td>0</td>\n",
       "      <td>0</td>\n",
       "      <td>4</td>\n",
       "      <td>46</td>\n",
       "      <td>共 69 人購買</td>\n",
       "      <td>乾果醬,交換禮物,繽紛,聖誕節</td>\n",
       "      <td>DULCET</td>\n",
       "      <td>共 88 人收藏</td>\n",
       "      <td>糖果/軟糖</td>\n",
       "      <td>123.102273</td>\n",
       "    </tr>\n",
       "    <tr>\n",
       "      <th>2</th>\n",
       "      <td>1</td>\n",
       "      <td>0</td>\n",
       "      <td>0</td>\n",
       "      <td>0</td>\n",
       "      <td>zh_TW</td>\n",
       "      <td>390</td>\n",
       "      <td>ningoo</td>\n",
       "      <td>390</td>\n",
       "      <td>NING&amp;#39;s</td>\n",
       "      <td>1cf23LXr</td>\n",
       "      <td>...</td>\n",
       "      <td>0</td>\n",
       "      <td>0</td>\n",
       "      <td>1</td>\n",
       "      <td>49</td>\n",
       "      <td>共 45 人購買</td>\n",
       "      <td>手提帶</td>\n",
       "      <td>NING's</td>\n",
       "      <td>共 191 人收藏</td>\n",
       "      <td>手提包</td>\n",
       "      <td>55.602094</td>\n",
       "    </tr>\n",
       "    <tr>\n",
       "      <th>3</th>\n",
       "      <td>2</td>\n",
       "      <td>0</td>\n",
       "      <td>0</td>\n",
       "      <td>1</td>\n",
       "      <td>zh_TW</td>\n",
       "      <td>150</td>\n",
       "      <td>mshowfan</td>\n",
       "      <td>150</td>\n",
       "      <td>mshowfan</td>\n",
       "      <td>1XkKaVA0</td>\n",
       "      <td>...</td>\n",
       "      <td>0</td>\n",
       "      <td>0</td>\n",
       "      <td>3</td>\n",
       "      <td>47</td>\n",
       "      <td>共 124 人購買</td>\n",
       "      <td>好煩小姐,髮帶,點點</td>\n",
       "      <td>Fan</td>\n",
       "      <td>共 553 人收藏</td>\n",
       "      <td>髮飾</td>\n",
       "      <td>151.804702</td>\n",
       "    </tr>\n",
       "    <tr>\n",
       "      <th>4</th>\n",
       "      <td>2</td>\n",
       "      <td>0</td>\n",
       "      <td>0</td>\n",
       "      <td>1</td>\n",
       "      <td>zh_TW</td>\n",
       "      <td>180</td>\n",
       "      <td>mshowfan</td>\n",
       "      <td>180</td>\n",
       "      <td>mshowfan</td>\n",
       "      <td>1cDqf1tY</td>\n",
       "      <td>...</td>\n",
       "      <td>0</td>\n",
       "      <td>0</td>\n",
       "      <td>3</td>\n",
       "      <td>47</td>\n",
       "      <td>共 53 人購買</td>\n",
       "      <td>好煩小姐,復古,手作,混織,髮帶</td>\n",
       "      <td>Fan</td>\n",
       "      <td>共 319 人收藏</td>\n",
       "      <td>髮飾</td>\n",
       "      <td>61.805643</td>\n",
       "    </tr>\n",
       "  </tbody>\n",
       "</table>\n",
       "<p>5 rows × 23 columns</p>\n",
       "</div>"
      ],
      "text/plain": [
       "   category  discount  free_shipping  irev locale  oprice          owner  \\\n",
       "0         3         0              0     0  zh_TW     190  yuhuirustudio   \n",
       "1        10        95              0     1  zh_TW     568    doggysweets   \n",
       "2         1         0              0     0  zh_TW     390         ningoo   \n",
       "3         2         0              0     1  zh_TW     150       mshowfan   \n",
       "4         2         0              0     1  zh_TW     180       mshowfan   \n",
       "\n",
       "   price  store_name       tid       ...        #R2 #R3 #R4 #R5  \\\n",
       "0    190       歪的工作室  1fAYZRbb       ...          0   0   0  50   \n",
       "1    540      DULCET  1Wpbjtdt       ...          0   0   4  46   \n",
       "2    390  NING&#39;s  1cf23LXr       ...          0   0   1  49   \n",
       "3    150    mshowfan  1XkKaVA0       ...          0   0   3  47   \n",
       "4    180    mshowfan  1cDqf1tY       ...          0   0   3  47   \n",
       "\n",
       "  Number of buyers       Product Tag            SID number of collection  \\\n",
       "0         共 49 人購買               紙膠帶  yuhuirustudio            共 173 人收藏   \n",
       "1         共 69 人購買   乾果醬,交換禮物,繽紛,聖誕節         DULCET             共 88 人收藏   \n",
       "2         共 45 人購買               手提帶         NING's            共 191 人收藏   \n",
       "3        共 124 人購買        好煩小姐,髮帶,點點            Fan            共 553 人收藏   \n",
       "4         共 53 人購買  好煩小姐,復古,手作,混織,髮帶            Fan            共 319 人收藏   \n",
       "\n",
       "  subcategory Popularity score  \n",
       "0         紙膠帶        62.878613  \n",
       "1       糖果/軟糖       123.102273  \n",
       "2         手提包        55.602094  \n",
       "3          髮飾       151.804702  \n",
       "4          髮飾        61.805643  \n",
       "\n",
       "[5 rows x 23 columns]"
      ]
     },
     "execution_count": 34,
     "metadata": {},
     "output_type": "execute_result"
    }
   ],
   "source": [
    "Data.head()"
   ]
  },
  {
   "cell_type": "code",
   "execution_count": 35,
   "metadata": {
    "collapsed": false
   },
   "outputs": [],
   "source": [
    "Data.to_csv(\"Intermediate/data_final.csv\",sep=\",\",encoding='utf8',index=False)"
   ]
  },
  {
   "cell_type": "code",
   "execution_count": null,
   "metadata": {
    "collapsed": true
   },
   "outputs": [],
   "source": []
  }
 ],
 "metadata": {
  "kernelspec": {
   "display_name": "Python 2",
   "language": "python",
   "name": "python2"
  },
  "language_info": {
   "codemirror_mode": {
    "name": "ipython",
    "version": 2
   },
   "file_extension": ".py",
   "mimetype": "text/x-python",
   "name": "python",
   "nbconvert_exporter": "python",
   "pygments_lexer": "ipython2",
   "version": "2.7.11"
  }
 },
 "nbformat": 4,
 "nbformat_minor": 0
}
