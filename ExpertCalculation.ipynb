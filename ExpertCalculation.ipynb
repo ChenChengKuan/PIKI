{
 "cells": [
  {
   "cell_type": "markdown",
   "metadata": {},
   "source": [
    "#Expert Analysis\n",
    "\n",
    "This section aims to find experts in each subcaegory. The definition of expert is an user who has a prefernce over certain subcategory, we find the subcategory that has highest percentage. For example, if an user has purchase record like [a,a,a,b,c,d,e], then this user is an expert of a. If there are more than one expert in certain subcategory, we count all in."
   ]
  },
  {
   "cell_type": "code",
   "execution_count": 4,
   "metadata": {
    "collapsed": true
   },
   "outputs": [],
   "source": [
    "import pandas as pd\n",
    "import numpy as np\n",
    "from collections import Counter"
   ]
  },
  {
   "cell_type": "code",
   "execution_count": 2,
   "metadata": {
    "collapsed": true
   },
   "outputs": [],
   "source": [
    "Userdata=pd.read_csv(\"Intermediate/SimUserData.csv\",sep=\",\",encoding='utf8')"
   ]
  },
  {
   "cell_type": "code",
   "execution_count": 3,
   "metadata": {
    "collapsed": false
   },
   "outputs": [
    {
     "data": {
      "text/html": [
       "<div style=\"max-height:1000px;max-width:1500px;overflow:auto;\">\n",
       "<table border=\"1\" class=\"dataframe\">\n",
       "  <thead>\n",
       "    <tr style=\"text-align: right;\">\n",
       "      <th></th>\n",
       "      <th>UID</th>\n",
       "      <th>designer</th>\n",
       "      <th>tid</th>\n",
       "      <th>subcategory</th>\n",
       "      <th>Product Tag</th>\n",
       "      <th>Content weight</th>\n",
       "      <th>Style weight</th>\n",
       "    </tr>\n",
       "  </thead>\n",
       "  <tbody>\n",
       "    <tr>\n",
       "      <th>0</th>\n",
       "      <td> 0</td>\n",
       "      <td> vacii,pizzaplanet,mykuroit,dessin,snupped,dephase</td>\n",
       "      <td> 1GbtUHCT,1RTprEm3,11xJQ4fD,19l2Wj5p,1rcgl2Eb,1...</td>\n",
       "      <td>   iPhone 週邊,Android 週邊,肩背包/斜背包,平板/電腦保護套,電腦包,項鍊/墜子</td>\n",
       "      <td> 萬用包,客製化,熊,帆布,情人節,購物袋,防水,文創,帆布提袋,手拿包,iPhone 週邊,...</td>\n",
       "      <td> 0.087937</td>\n",
       "      <td> 0.912063</td>\n",
       "    </tr>\n",
       "    <tr>\n",
       "      <th>1</th>\n",
       "      <td> 1</td>\n",
       "      <td>                                       flowerdream</td>\n",
       "      <td>                                          1HtciiBm</td>\n",
       "      <td>                                         iPhone 週邊</td>\n",
       "      <td> case,禮物,手機殼,natural系列,晶菊,handmade,設計,design,ip...</td>\n",
       "      <td> 0.253916</td>\n",
       "      <td> 0.746084</td>\n",
       "    </tr>\n",
       "    <tr>\n",
       "      <th>2</th>\n",
       "      <td> 2</td>\n",
       "      <td> heartmademacau,davidloumang,maruituki,yoshi850...</td>\n",
       "      <td>      11mDtodq,14lhtFoR,1KeqmlKE,12NPzbJi,1dcb8hk6</td>\n",
       "      <td>           iPhone 週邊,Android 週邊,肩背包/斜背包,平板/電腦保護套,茶</td>\n",
       "      <td> 禮物,手機殼,花茶,iphone6,禮品,iPhone 週邊,兔子,設計,iphone6pl...</td>\n",
       "      <td> 0.054925</td>\n",
       "      <td> 0.945075</td>\n",
       "    </tr>\n",
       "    <tr>\n",
       "      <th>3</th>\n",
       "      <td> 3</td>\n",
       "      <td> patty-artcorner,pickers,yoshi850,swivelknife,m...</td>\n",
       "      <td> 1ZSoRfOD,1EtQSfJA,1WEHpYvK,17dIqAny,1wSjNQV7,1...</td>\n",
       "      <td> 杯墊,鑰匙圈/鑰匙包,Android 週邊,票夾/隨身夾,咖啡杯/馬克杯,杯墊,鑰匙圈/鑰匙...</td>\n",
       "      <td> 藝術,鑰匙圈,創意,銅　絞り,japan,悠遊卡,禪繞,簡約,情人節禮物,茶,狗狗的...,...</td>\n",
       "      <td> 0.836983</td>\n",
       "      <td> 0.163017</td>\n",
       "    </tr>\n",
       "    <tr>\n",
       "      <th>4</th>\n",
       "      <td> 4</td>\n",
       "      <td> innerexile,theheydayshop,1pinfun,louandfriends...</td>\n",
       "      <td> 1m1E_HKb,1G4AayN2,1uuSBGuH,1uAeK2XJ,1YbXaZxy,1...</td>\n",
       "      <td> iPhone 週邊,Android 週邊,肩背包/斜背包,平板/電腦保護套,戒指,電腦包,家...</td>\n",
       "      <td> 經典,炮炮束口肩包,dog,薄荷綠,粉藍,5s,質感,russell,粉色,萬用,典雅,鑽石...</td>\n",
       "      <td> 0.280402</td>\n",
       "      <td> 0.719598</td>\n",
       "    </tr>\n",
       "  </tbody>\n",
       "</table>\n",
       "</div>"
      ],
      "text/plain": [
       "   UID                                           designer  \\\n",
       "0    0  vacii,pizzaplanet,mykuroit,dessin,snupped,dephase   \n",
       "1    1                                        flowerdream   \n",
       "2    2  heartmademacau,davidloumang,maruituki,yoshi850...   \n",
       "3    3  patty-artcorner,pickers,yoshi850,swivelknife,m...   \n",
       "4    4  innerexile,theheydayshop,1pinfun,louandfriends...   \n",
       "\n",
       "                                                 tid  \\\n",
       "0  1GbtUHCT,1RTprEm3,11xJQ4fD,19l2Wj5p,1rcgl2Eb,1...   \n",
       "1                                           1HtciiBm   \n",
       "2       11mDtodq,14lhtFoR,1KeqmlKE,12NPzbJi,1dcb8hk6   \n",
       "3  1ZSoRfOD,1EtQSfJA,1WEHpYvK,17dIqAny,1wSjNQV7,1...   \n",
       "4  1m1E_HKb,1G4AayN2,1uuSBGuH,1uAeK2XJ,1YbXaZxy,1...   \n",
       "\n",
       "                                         subcategory  \\\n",
       "0    iPhone �梢�,Android �梢�,�抵��������撟單�/�餉�靽�風憟��餉������/憓��   \n",
       "1                                          iPhone �梢�   \n",
       "2            iPhone �梢�,Android �梢�,�抵��������撟單�/�餉�靽�風憟���  \n",
       "3  �臬�,�啣����啣���Android �梢�,蟡典冗/�刻澈憭������擐砍����臬�,�啣����啣�...   \n",
       "4  iPhone �梢�,Android �梢�,�抵��������撟單�/�餉�靽�風憟����,�餉���摰�..   \n",
       "\n",
       "                                         Product Tag  Content weight  \\\n",
       "0  �祉���摰Ｚˊ����撣��,��犖蝭�鞈潛�鋡��脫偌,���,撣�����,�����iPhone �梢�,...        0.087937   \n",
       "1  case,蝳桃�,���畾�natural蝟餃�,�嗉�,handmade,閮剛�,design,ip...        0.253916   \n",
       "2  蝳桃�,���畾��梯�,iphone6,蝳桀�,iPhone �梢�,���,閮剛�,iphone6pl...        0.054925   \n",
       "3  ���,�啣����菜�,���蝯��,japan,�����蝳芰�,蝪∠�,��犖蝭�旨���������..,...        0.836983   \n",
       "4  蝬��,�桃�����拙�,dog,���蝬�蝎��,5s,鞈芣�,russell,蝎��,�祉�,�賊�,�賜�...        0.280402   \n",
       "\n",
       "   Style weight  \n",
       "0      0.912063  \n",
       "1      0.746084  \n",
       "2      0.945075  \n",
       "3      0.163017  \n",
       "4      0.719598  "
      ]
     },
     "execution_count": 3,
     "metadata": {},
     "output_type": "execute_result"
    }
   ],
   "source": [
    "Userdata.head()"
   ]
  },
  {
   "cell_type": "markdown",
   "metadata": {},
   "source": [
    "To begin with, we calculate the subcategory that account for highest percentage for each user"
   ]
  },
  {
   "cell_type": "code",
   "execution_count": 73,
   "metadata": {
    "collapsed": false
   },
   "outputs": [],
   "source": [
    "def Expert(df):\n",
    "    Expert_df=pd.DataFrame(index=range(len(df)),columns=['subcategory','score'])\n",
    "    for i in xrange(len(df)):\n",
    "        #Convert to dic\n",
    "        Count=Counter(df.ix[i,'subcategory'].split(\",\"))\n",
    "        num=len(Count.keys())\n",
    "        \n",
    "        #Normalize to by length product record to get percentage\n",
    "        Count_n={k:float(Count[k])/float(num) for k in Count.keys()}\n",
    "        \n",
    "        #Find the subcategory which account for highest percentage\n",
    "        max_cat_dic={k:Count_n[k] for k in Count_n.keys() if Count_n[k]==max(Count_n.values())}\n",
    "        if len(max_cat_dic)!=1:\n",
    "            Expert_df.ix[i,'subcategory']='None'\n",
    "        else:\n",
    "            Expert_df.ix[i,'subcategory']=max_cat_dic.keys()[0]\n",
    "            Expert_df.ix[i,'score']=max_cat_dic.values()[0]\n",
    "    return Expert_df "
   ]
  },
  {
   "cell_type": "code",
   "execution_count": 74,
   "metadata": {
    "collapsed": false
   },
   "outputs": [],
   "source": [
    "Expert_df=Expert(Userdata)"
   ]
  },
  {
   "cell_type": "code",
   "execution_count": 77,
   "metadata": {
    "collapsed": false
   },
   "outputs": [],
   "source": [
    "#Filter out the user who doesn't show any preference\n",
    "Expert_candidate=Expert_df[(Expert_df['subcategory']!='None') & (Expert_df['score']!=1)]"
   ]
  },
  {
   "cell_type": "code",
   "execution_count": 82,
   "metadata": {
    "collapsed": false
   },
   "outputs": [
    {
     "data": {
      "text/html": [
       "<div style=\"max-height:1000px;max-width:1500px;overflow:auto;\">\n",
       "<table border=\"1\" class=\"dataframe\">\n",
       "  <thead>\n",
       "    <tr style=\"text-align: right;\">\n",
       "      <th></th>\n",
       "      <th>subcategory</th>\n",
       "      <th>score</th>\n",
       "    </tr>\n",
       "  </thead>\n",
       "  <tbody>\n",
       "    <tr>\n",
       "      <th>62  </th>\n",
       "      <td>   皮夾/錢包</td>\n",
       "      <td> 0.8333333</td>\n",
       "    </tr>\n",
       "    <tr>\n",
       "      <th>234 </th>\n",
       "      <td>   項鍊/墜子</td>\n",
       "      <td> 0.8333333</td>\n",
       "    </tr>\n",
       "    <tr>\n",
       "      <th>355 </th>\n",
       "      <td>   項鍊/墜子</td>\n",
       "      <td> 0.8333333</td>\n",
       "    </tr>\n",
       "    <tr>\n",
       "      <th>381 </th>\n",
       "      <td>      貼紙</td>\n",
       "      <td> 0.8333333</td>\n",
       "    </tr>\n",
       "    <tr>\n",
       "      <th>498 </th>\n",
       "      <td>      胸針</td>\n",
       "      <td> 0.8333333</td>\n",
       "    </tr>\n",
       "    <tr>\n",
       "      <th>571 </th>\n",
       "      <td>   項鍊/墜子</td>\n",
       "      <td> 0.8333333</td>\n",
       "    </tr>\n",
       "    <tr>\n",
       "      <th>840 </th>\n",
       "      <td>   項鍊/墜子</td>\n",
       "      <td> 0.8333333</td>\n",
       "    </tr>\n",
       "    <tr>\n",
       "      <th>1019</th>\n",
       "      <td>   項鍊/墜子</td>\n",
       "      <td> 0.8333333</td>\n",
       "    </tr>\n",
       "    <tr>\n",
       "      <th>1076</th>\n",
       "      <td>      貼紙</td>\n",
       "      <td> 0.8333333</td>\n",
       "    </tr>\n",
       "    <tr>\n",
       "      <th>1614</th>\n",
       "      <td>      胸針</td>\n",
       "      <td> 0.8333333</td>\n",
       "    </tr>\n",
       "    <tr>\n",
       "      <th>1663</th>\n",
       "      <td>   項鍊/墜子</td>\n",
       "      <td> 0.8333333</td>\n",
       "    </tr>\n",
       "    <tr>\n",
       "      <th>1992</th>\n",
       "      <td>   項鍊/墜子</td>\n",
       "      <td> 0.8333333</td>\n",
       "    </tr>\n",
       "    <tr>\n",
       "      <th>2083</th>\n",
       "      <td>  筆記本/手帳</td>\n",
       "      <td> 0.8333333</td>\n",
       "    </tr>\n",
       "    <tr>\n",
       "      <th>2533</th>\n",
       "      <td>   項鍊/墜子</td>\n",
       "      <td> 0.8333333</td>\n",
       "    </tr>\n",
       "    <tr>\n",
       "      <th>2555</th>\n",
       "      <td>   項鍊/墜子</td>\n",
       "      <td> 0.8333333</td>\n",
       "    </tr>\n",
       "    <tr>\n",
       "      <th>2630</th>\n",
       "      <td>   項鍊/墜子</td>\n",
       "      <td> 0.8333333</td>\n",
       "    </tr>\n",
       "    <tr>\n",
       "      <th>2849</th>\n",
       "      <td> 鑰匙圈/鑰匙包</td>\n",
       "      <td> 0.8333333</td>\n",
       "    </tr>\n",
       "    <tr>\n",
       "      <th>3016</th>\n",
       "      <td>   項鍊/墜子</td>\n",
       "      <td> 0.8333333</td>\n",
       "    </tr>\n",
       "    <tr>\n",
       "      <th>3230</th>\n",
       "      <td>  筆記本/手帳</td>\n",
       "      <td> 0.8333333</td>\n",
       "    </tr>\n",
       "    <tr>\n",
       "      <th>3408</th>\n",
       "      <td>      髮飾</td>\n",
       "      <td> 0.8333333</td>\n",
       "    </tr>\n",
       "    <tr>\n",
       "      <th>3844</th>\n",
       "      <td>   項鍊/墜子</td>\n",
       "      <td> 0.8333333</td>\n",
       "    </tr>\n",
       "    <tr>\n",
       "      <th>3940</th>\n",
       "      <td>      髮飾</td>\n",
       "      <td> 0.8333333</td>\n",
       "    </tr>\n",
       "  </tbody>\n",
       "</table>\n",
       "</div>"
      ],
      "text/plain": [
       "     subcategory      score\n",
       "62         �桀冗/�Ｗ�  0.8333333\n",
       "234        ���/憓��  0.8333333\n",
       "355        ���/憓��  0.8333333\n",
       "381           鞎潛�  0.8333333\n",
       "498           �賊�  0.8333333\n",
       "571        ���/憓��  0.8333333\n",
       "840        ���/憓��  0.8333333\n",
       "1019       ���/憓��  0.8333333\n",
       "1076          鞎潛�  0.8333333\n",
       "1614          �賊�  0.8333333\n",
       "1663       ���/憓��  0.8333333\n",
       "1992       ���/憓��  0.8333333\n",
       "2083      蝑������董  0.8333333\n",
       "2533       ���/憓��  0.8333333\n",
       "2555       ���/憓��  0.8333333\n",
       "2630       ���/憓��  0.8333333\n",
       "2849     �啣����啣��� 0.8333333\n",
       "3016       ���/憓��  0.8333333\n",
       "3230      蝑������董  0.8333333\n",
       "3408          擃桅ˇ  0.8333333\n",
       "3844       ���/憓��  0.8333333\n",
       "3940          擃桅ˇ  0.8333333"
      ]
     },
     "execution_count": 82,
     "metadata": {},
     "output_type": "execute_result"
    }
   ],
   "source": [
    "#Find the user who has the max preference score in each subcategory\n",
    "Expert_candidate[Expert_candidate['score']==Expert_candidate['score'].max()]"
   ]
  },
  {
   "cell_type": "code",
   "execution_count": 89,
   "metadata": {
    "collapsed": false
   },
   "outputs": [],
   "source": [
    "#Take the user with maximum score as the expert of that subcategory\n",
    "Expert_valid=pd.DataFrame(index=range(len(set(Expert_candidate['subcategory']))),columns=['subcategory','UID'])\n",
    "#c=0\n",
    "for i in set(Expert_candidate['subcategory']):\n",
    "    tmp_df=Expert_candidate[Expert_candidate['subcategory']==i]\n",
    "    expert=\",\".join([str(e) for e in list(tmp_df[tmp_df['score']==tmp_df['score'].max()].index)])\n",
    "    Expert_valid.ix[c,'subcategory']=i\n",
    "    Expert_valid.ix[c,'UID']=expert\n",
    "#    c+=1\n",
    "    "
   ]
  },
  {
   "cell_type": "code",
   "execution_count": 97,
   "metadata": {
    "collapsed": false
   },
   "outputs": [],
   "source": [
    "Expert_valid.to_csv(\"Intermediate/expert.csv\",sep=\",\",encoding='utf8')"
   ]
  },
  {
   "cell_type": "code",
   "execution_count": null,
   "metadata": {
    "collapsed": true
   },
   "outputs": [],
   "source": []
  }
 ],
 "metadata": {
  "kernelspec": {
   "display_name": "Python 2",
   "language": "python",
   "name": "python2"
  },
  "language_info": {
   "codemirror_mode": {
    "name": "ipython",
    "version": 2
   },
   "file_extension": ".py",
   "mimetype": "text/x-python",
   "name": "python",
   "nbconvert_exporter": "python",
   "pygments_lexer": "ipython2",
   "version": "2.7.9"
  }
 },
 "nbformat": 4,
 "nbformat_minor": 0
}
