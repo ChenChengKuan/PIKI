{
 "cells": [
  {
   "cell_type": "markdown",
   "metadata": {},
   "source": [
    "# Designer Similarity\n",
    "In this section, we aim to find the similarity among designers. This similarity will be used to build the recommender engine. We apply K-mean to the subcategory of product sold by designer. "
   ]
  },
  {
   "cell_type": "markdown",
   "metadata": {},
   "source": [
    "## Description of data set\n",
    "\n",
    "The data was colleced from Pinkoi website. The date of collection is 12/15\n",
    "\n",
    "## Field\n",
    "* Product Category: the subcategory the products belong to, string\n",
    "* Product Tag: tags designer use to descibe his/her product, string\n",
    "* desing house: the store of the designer, string"
   ]
  },
  {
   "cell_type": "markdown",
   "metadata": {},
   "source": [
    "## Data Pre-Processing\n",
    "We simply filter out the missing values"
   ]
  },
  {
   "cell_type": "code",
   "execution_count": 1,
   "metadata": {
    "collapsed": false
   },
   "outputs": [],
   "source": [
    "import pandas as pd\n",
    "import numpy as np"
   ]
  },
  {
   "cell_type": "code",
   "execution_count": 2,
   "metadata": {
    "collapsed": false
   },
   "outputs": [],
   "source": [
    "data_raw=pd.read_csv(\"input/designer_data.csv\",sep=\",\",encoding='utf8')"
   ]
  },
  {
   "cell_type": "code",
   "execution_count": 6,
   "metadata": {
    "collapsed": false
   },
   "outputs": [],
   "source": [
    "data_clean=data_raw[data_raw['Product Catgory']!='Missing']"
   ]
  },
  {
   "cell_type": "code",
   "execution_count": 7,
   "metadata": {
    "collapsed": false
   },
   "outputs": [],
   "source": [
    "data_clean=data_clean.reset_index(drop=True)"
   ]
  },
  {
   "cell_type": "code",
   "execution_count": 8,
   "metadata": {
    "collapsed": false
   },
   "outputs": [
    {
     "data": {
      "text/html": [
       "<div>\n",
       "<table border=\"1\" class=\"dataframe\">\n",
       "  <thead>\n",
       "    <tr style=\"text-align: right;\">\n",
       "      <th></th>\n",
       "      <th>Product Catgory</th>\n",
       "      <th>Product tag</th>\n",
       "      <th>design house</th>\n",
       "    </tr>\n",
       "  </thead>\n",
       "  <tbody>\n",
       "    <tr>\n",
       "      <th>0</th>\n",
       "      <td>肩背包/斜背包 (2),零錢包 (1),筆盒/筆袋 (1),杯墊 (1),家飾/擺飾 (1)</td>\n",
       "      <td>\\n                        ,handmade, (6),側背袋, ...</td>\n",
       "      <td>siusiukappaegg</td>\n",
       "    </tr>\n",
       "    <tr>\n",
       "      <th>1</th>\n",
       "      <td>手提包 (2)</td>\n",
       "      <td>\\n                        ,dearbnb, (2),tiffan...</td>\n",
       "      <td>dearbnb</td>\n",
       "    </tr>\n",
       "    <tr>\n",
       "      <th>2</th>\n",
       "      <td>卡片/明信片 (1),筆插/筆筒/筆套 (1),陶器/陶飾 (4),淺碟/盤子/餐盤 (4)...</td>\n",
       "      <td>\\n                        ,card, (1),christmas...</td>\n",
       "      <td>delightful-time</td>\n",
       "    </tr>\n",
       "    <tr>\n",
       "      <th>3</th>\n",
       "      <td>T 恤 (女) (1),背心 (女) (8),連帽外套/T 恤 (中性) (4),背心 (男...</td>\n",
       "      <td>\\n                        ,手作, (49),手工, (49),手...</td>\n",
       "      <td>yenyen</td>\n",
       "    </tr>\n",
       "    <tr>\n",
       "      <th>4</th>\n",
       "      <td>肩背包/斜背包 (8),手提包 (2),束口後背包 (1),卡片/明信片 (3),貼紙 (2...</td>\n",
       "      <td>\\n                        ,handmade, (36),動物, ...</td>\n",
       "      <td>patchworkshop</td>\n",
       "    </tr>\n",
       "  </tbody>\n",
       "</table>\n",
       "</div>"
      ],
      "text/plain": [
       "                                     Product Catgory  \\\n",
       "0     肩背包/斜背包 (2),零錢包 (1),筆盒/筆袋 (1),杯墊 (1),家飾/擺飾 (1)   \n",
       "1                                            手提包 (2)   \n",
       "2  卡片/明信片 (1),筆插/筆筒/筆套 (1),陶器/陶飾 (4),淺碟/盤子/餐盤 (4)...   \n",
       "3  T 恤 (女) (1),背心 (女) (8),連帽外套/T 恤 (中性) (4),背心 (男...   \n",
       "4  肩背包/斜背包 (8),手提包 (2),束口後背包 (1),卡片/明信片 (3),貼紙 (2...   \n",
       "\n",
       "                                         Product tag     design house  \n",
       "0  \\n                        ,handmade, (6),側背袋, ...   siusiukappaegg  \n",
       "1  \\n                        ,dearbnb, (2),tiffan...          dearbnb  \n",
       "2  \\n                        ,card, (1),christmas...  delightful-time  \n",
       "3  \\n                        ,手作, (49),手工, (49),手...           yenyen  \n",
       "4  \\n                        ,handmade, (36),動物, ...    patchworkshop  "
      ]
     },
     "execution_count": 8,
     "metadata": {},
     "output_type": "execute_result"
    }
   ],
   "source": [
    "data_clean.head()"
   ]
  },
  {
   "cell_type": "code",
   "execution_count": 72,
   "metadata": {
    "collapsed": false
   },
   "outputs": [
    {
     "data": {
      "text/plain": [
       "5194"
      ]
     },
     "execution_count": 72,
     "metadata": {},
     "output_type": "execute_result"
    }
   ],
   "source": [
    "len(data_clean)"
   ]
  },
  {
   "cell_type": "markdown",
   "metadata": {},
   "source": [
    "The valid number of designer is 5194"
   ]
  },
  {
   "cell_type": "markdown",
   "metadata": {},
   "source": [
    "## Designer Clustering\n",
    "This part aims to find the most similar designer to one designer. To find this designer, I propose two steps similarity calculations to solve this problem. The first step is course similarity calculation by applying Kmean algorithm in SparkMllib. The second step is fine similarity calculation by computing cosine similarity of product tag owned by designer within the cluster designer belong to. For the features used in two steps and why I separation of calculation into two steps, please see the next section\n",
    "\n",
    "\n",
    "### Feature Selection\n",
    "\n",
    "Based on data available, we use subcategory of product sold by a designer as input feature of first step kmean. One may ask why not combine the product tag together to form the input feature and run one-step calculation. followings are my consideration:\n",
    "\n",
    "#### Memory issue\n",
    "According to API in SparkMLlib, the input data of kmean is array-like data, wichh means we have to convert each prodcut tag owned by designer to vector space of ~30000. Even though we apply TF-IDF to filtered out the less characteristic product tags, the size of vector space is of ~20000. It's unefficient to store such large and sparse vector. However, my proposed approach only have to consider subcategory, whcih is only 173.\n",
    "\n",
    "#### Update issue\n",
    "Though the combination of product tag and subcategory might imporve the clustering result, the product tag is too unstable (several products tags will disappear or appear in one day for a designer). To get bettter recommendation, we must update it frequently. However, to compute such large vector is time-consuming. It might not be worthwile to sacrify computing resource to few improvement of clustering result. Instead of using unstable product tag, the subcategory is more stable since the coverage of subcategory is larger. Hence, it need less update. Though it might be less accurate, it's a trade-off of my design, please see Coverage issue\n",
    "\n",
    "#### Scalability issue\n",
    "Concering the previous two points, when number of designer become larger and larger(Pinkoi growth rapidly, right?). Such combination is both memory and time consuming. It is not scalable. Nonetheless, my approach is more scalable due to far smaller size of feature space. \n",
    "\n",
    "#### Coverage issue\n",
    "This issue is related to design of my prototype of recommender engine. The position of designer recommender aims to increase the coverage and bring more serendipity/novelty product to user(see details in slide X). So the role of preciseness is not that important.\n",
    "\n",
    "<br>\n",
    "In conclusion, the intergation of product tag will cause a large and sparse array, which is unfavored of our system design. Though I have some fast computing method to address such sparse array that can beat numpy(See customer data generation), it requies to modify the source code of Spark K-mean which might lose the speedup of using spark. "
   ]
  },
  {
   "cell_type": "markdown",
   "metadata": {},
   "source": [
    "## First step similarity calculation: K-mean"
   ]
  },
  {
   "cell_type": "markdown",
   "metadata": {},
   "source": [
    "In following section, we apply K-means in Spark MLlib to cluster the designer. Be sure to have the envrionemnt for running Spark1.4 or up if you want to implement the code.\n",
    "\n",
    "There is no theoretical method to determine the parameter of K-means(i.e number of cluster k, iteration...etc). A generally accepted method is called <a href='https://www.quora.com/How-can-we-choose-a-good-K-for-K-means-clustering'>elbow method</a>. It says that the number of cluster can be determined by plotting clustering error versus the number of cluster k. The value k is the number of cluster that cause the large decrease of error. Elbow method is a rule of thumb, the exact number of k should be determined by real application and scenario. I choose K=11 as the number of cluster. For the process of finding k by applying elbow method, please refer to Appendix2"
   ]
  },
  {
   "cell_type": "markdown",
   "metadata": {},
   "source": [
    "#### Parsing\n",
    "The following two helper function is used to parse the number in the subcategory.(i,e 肩背包/斜背包 (2)). I just add some comment and not going to dig into how to parse it "
   ]
  },
  {
   "cell_type": "code",
   "execution_count": 3,
   "metadata": {
    "collapsed": true
   },
   "outputs": [],
   "source": [
    "#This function is used to parse and return the a list of all subcategories\n",
    "def Parse_cat(s):\n",
    "    tmp=s.split(\",\")\n",
    "    L=[]\n",
    "    # The tricky point here the each category string contains difference \" \". Following parse scehme is based on our observation\n",
    "    for g in tmp:\n",
    "        #normal case, ['category (number)']\n",
    "        if len(g.split(\" \"))==2:\n",
    "            L.append(g.split(\" \")[0])\n",
    "        #One white space case ['category ' '(number)' ]\n",
    "        elif len(g.split(\" \"))==3:\n",
    "            g_tmp=g.split(\" \")\n",
    "            L.append(\"\".join(g_tmp[0:2]))\n",
    "        #two white space case['category '  '(nuber)']\n",
    "        else:\n",
    "            g_tmp=g.split(\" \")\n",
    "            L.append(\"\".join(g_tmp[0:3]))\n",
    "    return L"
   ]
  },
  {
   "cell_type": "code",
   "execution_count": 4,
   "metadata": {
    "collapsed": true
   },
   "outputs": [],
   "source": [
    "#This function is used to convert the following:\n",
    "# 肩背包/斜背包 (2),零錢包 (1),筆盒/筆袋 (1),杯墊 (1),家飾/擺飾 (1) ->[0,0..1,0,1..,0]\n",
    "def Feature_xtra_cat(dh):\n",
    "    \n",
    "    L=[]\n",
    "    tmp_1=dh.split(\",\")\n",
    "    #The same tricky issues as mentined in parse cat\n",
    "    for g in tmp_1:\n",
    "        if len(g.split(\" \"))==2:\n",
    "            L.append(g.split(\" \")[0])\n",
    "            L.append(g.split(\" \")[1])\n",
    "\n",
    "        elif len(g.split(\" \"))==3:\n",
    "            g_tmp=g.split(\" \")\n",
    "            L.append(\"\".join(g_tmp[0:2]))\n",
    "            L.append(g_tmp[2])\n",
    "        else:\n",
    "            g_tmp=g.split(\" \")\n",
    "            L.append(\"\".join(g_tmp[0:3]))\n",
    "            L.append(g_tmp[3])\n",
    "    f_array=np.zeros(len(Product_catgory))\n",
    "    for f in L:\n",
    "        if L.index(f)%2==0:\n",
    "            f_array[Product_catgory.index(f)]=int(L[L.index(f)+1][1:-1])\n",
    "           \n",
    "    return f_array"
   ]
  },
  {
   "cell_type": "code",
   "execution_count": 9,
   "metadata": {
    "collapsed": false
   },
   "outputs": [],
   "source": [
    "pc_tmp=[Parse_cat(e) for e in data_clean['Product Catgory']]"
   ]
  },
  {
   "cell_type": "code",
   "execution_count": 10,
   "metadata": {
    "collapsed": false
   },
   "outputs": [],
   "source": [
    "Product_catgory=[]\n",
    "for i in pc_tmp:\n",
    "    Product_catgory.extend(i)\n",
    "Product_catgory=list(set(Product_catgory))\n"
   ]
  },
  {
   "cell_type": "markdown",
   "metadata": {},
   "source": [
    "Following step transforms the data:<br>\n",
    "<br>\n",
    "designer A C1(10), C2(5),C3(1) to desingerA [0,0.0,0,10,0..0,5,0,0,..1,0..0]\n",
    "<br>\n",
    "<br>\n",
    "Each designer has a feature vector which has length equals to the number of subcategory"
   ]
  },
  {
   "cell_type": "code",
   "execution_count": 77,
   "metadata": {
    "collapsed": false
   },
   "outputs": [],
   "source": [
    "Feature_cat=[Feature_xtra_cat(e) for e in data_clean['Product Catgory']]"
   ]
  },
  {
   "cell_type": "code",
   "execution_count": 78,
   "metadata": {
    "collapsed": false
   },
   "outputs": [
    {
     "data": {
      "text/plain": [
       "5194"
      ]
     },
     "execution_count": 78,
     "metadata": {},
     "output_type": "execute_result"
    }
   ],
   "source": [
    "len(Feature_cat)"
   ]
  },
  {
   "cell_type": "code",
   "execution_count": 82,
   "metadata": {
    "collapsed": false
   },
   "outputs": [],
   "source": [
    "#Store feature of each designer to dataframe\n",
    "Feature_df=pd.DataFrame(columns=Product_catgory,index=range(len(data_clean)))\n",
    "user_id=[]\n",
    "for i in xrange(len(Feature_cat)):\n",
    "    user_id.append(u'{s}'.format(s=i))\n",
    "\n",
    "for i in xrange(len(data_clean)):\n",
    "    Feature_df.iloc[i]=Feature_cat[i]\n",
    "\n",
    "Feature_df.insert(0,u'UID',user_id)\n",
    "Feature_df.to_csv('Intermediate/designer_catfeature.csv',sep=\",\",encoding='utf8',index=False,header=None)"
   ]
  },
  {
   "cell_type": "code",
   "execution_count": 125,
   "metadata": {
    "collapsed": false
   },
   "outputs": [],
   "source": [
    "Feature_data=sc.textFile('Intermediate/designer_catfeature.csv')"
   ]
  },
  {
   "cell_type": "code",
   "execution_count": 85,
   "metadata": {
    "collapsed": false
   },
   "outputs": [],
   "source": [
    "parse_data=Feature_data.map(lambda x:(x.split(\",\")[0],x.split(\",\")[1:]))\\\n",
    ".map(lambda x:(x[0],np.array([float(e) for e in x[1]])))"
   ]
  },
  {
   "cell_type": "code",
   "execution_count": 87,
   "metadata": {
    "collapsed": false
   },
   "outputs": [],
   "source": [
    "parse_data_final=parse_data.map(lambda x:x[1])"
   ]
  },
  {
   "cell_type": "markdown",
   "metadata": {},
   "source": [
    "We define two helper functions: CalGroupInfo and TellGroupInfo. The first function calculate the feature represented by the group and the second one tell will print out these feature"
   ]
  },
  {
   "cell_type": "code",
   "execution_count": 88,
   "metadata": {
    "collapsed": true
   },
   "outputs": [],
   "source": [
    "def CalGroupInfo(g,K):\n",
    "    G_num=[]\n",
    "    G_feature=[]\n",
    "    G_designer=[]\n",
    "    for k in range(K):\n",
    "        #print \"Group k: \"+str(k)\n",
    "        G_num.append(g.filter(lambda g0:g0[2]==k).count())\n",
    "        G_feature.append(g.filter(lambda g0:g0[2]==k).map(lambda x:(1,x[1])).reduceByKey(lambda x,y:x+y).collect())\n",
    "        G_designer.append(g.filter(lambda g0:g0[2]==k).map(lambda x:(x[0])).collect())\n",
    "    \n",
    "    \n",
    "    return G_num,G_feature,G_designer"
   ]
  },
  {
   "cell_type": "code",
   "execution_count": 89,
   "metadata": {
    "collapsed": true
   },
   "outputs": [],
   "source": [
    "def TellGroupInfo(gn,gf,gd):\n",
    "    for i in xrange(len(gn)):\n",
    "        print \"Group {s}\".format(s=i)+\" num=\"+str(gn[i])\n",
    "        print \"Desinger in {s} group:\".format(s=i)\n",
    "        #print gd[i], len(gd[i])\n",
    "        \n",
    "        #tmp=sorted(gf[i][0][1])\n",
    "        SF=np.percentile(gf[i][0][1],95)\n",
    "        \n",
    "        dominant_f=[e if e>=SF else 0.0 for e in gf[i][0][1]]\n",
    "        #tmp_d=setsorted(dominant_f, reverse=True)\n",
    "        for f in set(dominant_f):\n",
    "            if f!=0:\n",
    "                print Product_catgory[list(gf[i][0][1]).index(f)]     "
   ]
  },
  {
   "cell_type": "markdown",
   "metadata": {},
   "source": [
    "This error function is used to calculate the distance for a point to cluster it belongs to"
   ]
  },
  {
   "cell_type": "code",
   "execution_count": 90,
   "metadata": {
    "collapsed": true
   },
   "outputs": [],
   "source": [
    "def error(point):\n",
    "    center = clusters.centers[clusters.predict(point)]\n",
    "    return np.sqrt(sum([x**2 for x in (point - center)]))"
   ]
  },
  {
   "cell_type": "code",
   "execution_count": 92,
   "metadata": {
    "collapsed": false
   },
   "outputs": [
    {
     "data": {
      "text/plain": [
       "[14, 4, 4, 74, 4725, 187, 49, 7, 58, 60, 12]"
      ]
     },
     "execution_count": 92,
     "metadata": {},
     "output_type": "execute_result"
    }
   ],
   "source": [
    "from pyspark.mllib.clustering import KMeans, KMeansModel\n",
    "clusters_k11 = KMeansModel.load(sc, \"Intermediate/model_designer\")\n",
    "prediction_k11=parse_data.map(lambda p:(p[0],p[1],clusters_k11.predict(p[1])))\n",
    "\n",
    "Group_num11,Group_feature11,Group_desinger11=CalGroupInfo(prediction_k11,11)\n",
    "pd.Series(Group_num11).to_csv(\"Intermediate/group_num.csv\",sep=\",\",encoding='utf8',index=False)\n",
    "Group_num11"
   ]
  },
  {
   "cell_type": "code",
   "execution_count": 93,
   "metadata": {
    "collapsed": false
   },
   "outputs": [
    {
     "name": "stdout",
     "output_type": "stream",
     "text": [
      "Group 0 num=14\n",
      "Desinger in 0 group:\n",
      "iPhone週邊\n",
      "其他\n",
      "Android週邊\n",
      "肩背包/斜背包\n",
      "平板/電腦保護套\n",
      "電腦包\n",
      "抱枕\n",
      "時鐘/鬧鐘\n",
      "充電器/傳輸線\n",
      "Group 1 num=4\n",
      "Desinger in 1 group:\n",
      "其他\n",
      "媽媽包\n",
      "啟發玩具\n",
      "童鞋\n",
      "童裝\n",
      "彌月收涎\n",
      "圍兜/領巾/配件\n",
      "Group 2 num=4\n",
      "Desinger in 2 group:\n",
      "杯墊\n",
      "圍兜/領巾/配件\n",
      "髮飾\n",
      "耳環\n",
      "捲線器/電線收納\n",
      "徽章/別針\n",
      "鑰匙圈/鑰匙包\n",
      "卡片/明信片\n",
      "胸針\n",
      "Group 3 num=74\n",
      "Desinger in 3 group:\n",
      "皮夾/錢包\n",
      "束口後背包\n",
      "後背包\n",
      "零錢包\n",
      "手提包\n",
      "其他\n",
      "帽子\n",
      "肩背包/斜背包\n",
      "化妝包/雜物包\n",
      "Group 4 num=4725\n",
      "Desinger in 4 group:\n",
      "項鍊/墜子\n",
      "鑰匙圈/鑰匙包\n",
      "手鍊/手環\n",
      "耳環\n",
      "其他\n",
      "肩背包/斜背包\n",
      "零錢包\n",
      "家飾/擺飾\n",
      "卡片/明信片\n",
      "Group 5 num=187\n",
      "Desinger in 5 group:\n",
      "胸針\n",
      "項鍊/墜子\n",
      "髮飾\n",
      "鑰匙圈/鑰匙包\n",
      "耳環\n",
      "手鍊/手環\n",
      "其他\n",
      "手錶\n",
      "戒指\n",
      "Group 6 num=49\n",
      "Desinger in 6 group:\n",
      "外套/大衣(女)\n",
      "項鍊/墜子\n",
      "裙子\n",
      "針織衫/毛衣(女)\n",
      "襯衫(女)\n",
      "洋裝\n",
      "褲子/下身(女)\n",
      "上衣(女)\n",
      "T恤(女)\n",
      "Group 7 num=7\n",
      "Desinger in 7 group:\n",
      "串珠材料\n",
      "手鍊/手環\n",
      "胸針\n",
      "戒指\n",
      "項鍊/墜子\n",
      "耳機/耳機週邊\n",
      "鑰匙圈/鑰匙包\n",
      "耳環\n",
      "髮飾\n",
      "Group 8 num=58\n",
      "Desinger in 8 group:\n",
      "貼紙\n",
      "筆記本/手帳\n",
      "化妝包/雜物包\n",
      "卡片/明信片\n",
      "其他\n",
      "杯墊\n",
      "紙膠帶\n",
      "票夾/隨身夾\n",
      "包裝材料\n",
      "Group 9 num=60\n",
      "Desinger in 9 group:\n",
      "杯墊\n",
      "鑰匙圈/鑰匙包\n",
      "Android週邊\n",
      "票夾/隨身夾\n",
      "咖啡杯/馬克杯\n",
      "其他\n",
      "iPhone週邊\n",
      "零錢包\n",
      "手錶\n",
      "Group 10 num=12\n",
      "Desinger in 10 group:\n",
      "iPhone週邊\n",
      "手提包\n",
      "上衣(女)\n",
      "T恤(女)\n",
      "上衣/T恤(男)\n",
      "帽子\n",
      "束口後背包\n",
      "童裝\n",
      "手鍊/手環\n"
     ]
    }
   ],
   "source": [
    "TellGroupInfo(Group_num11,Group_feature11,Group_desinger11)"
   ]
  },
  {
   "cell_type": "markdown",
   "metadata": {},
   "source": [
    "Note that we have a group has really large number(4725). To be honest, I can't figure out why. I have tried different k(27,19,15..), a group with very large number still exist"
   ]
  },
  {
   "cell_type": "markdown",
   "metadata": {},
   "source": [
    "## Second step similarity calculation: Cosine similarity within group\n",
    "In this step, we will find the most similar designer of each designer by calculating the cosine similarity of product tag. The first thing we have to do is to filtered out the unrepresentative tags by TF-IDF<br>\n",
    "<br>\n",
    "the idea of TF-IDF, which is quite common in information retrival. We treat each designer is a document and the product tags are some key words to descirbe this designer. The idea beind TF-IDF is that the more frequent a word appear, the more important it is for classification of document. However, if this word appear in almost evey document, then it is too general and have no important meaning (just think about be-verb in English). With some normalization, the calculation of TF-IDF score of i-th key word can be written as:\n",
    "\n",
    "* Term Frequency($TF_{i}$)=numbe of times of key word i appear in all document\n",
    "* Inverse Document Frequency(IDF$_{i}$)=number of document key word i appear\n",
    "* N: total number of document\n",
    "* max(f,i)= maximum key word frequency\n",
    "$$ TF-IDF_{i}=TF_{i}/max(f,i)*log(N/IDF_{i})$$\n",
    "\n",
    "\n"
   ]
  },
  {
   "cell_type": "code",
   "execution_count": null,
   "metadata": {
    "collapsed": true
   },
   "outputs": [],
   "source": [
    "# the parameter elewise is used to check whether this function is used to return a list of whole tag or return a dictionary of tag for each \n",
    "#designer\n",
    "def parse_tag(s,elewise):\n",
    "    if elewise==False:\n",
    "        tmp=s.split(\",\")[1:-1]\n",
    "        return [g for g in tmp if tmp.index(g)%2==0]\n",
    "    else:\n",
    "        tmp=s.split(\",\")[1:-1]\n",
    "        #The tricky points here is that some data is organized as 'subtag' 'number' while some are inverse!\n",
    "        if tmp[0][0]!=' ':\n",
    "            key=[g for g in tmp if tmp.index(g)%2==0]\n",
    "            value=[float(g[2:-1]) for g in tmp if tmp.index(g)%2!=0]\n",
    "            dic={}\n",
    "    \n",
    "            for e in zip(key,value):\n",
    "                dic[e[0]]=e[1]\n",
    "        else:\n",
    "            key=[g for g in tmp if tmp.index(g)%2!=0]\n",
    "            value=[float(g[2:-1]) for g in tmp if tmp.index(g)%2==0]\n",
    "            dic={}\n",
    "    \n",
    "            for e in zip(key,value):\n",
    "                dic[e[0]]=e[1]\n",
    "            \n",
    "            \n",
    "        return dic"
   ]
  },
  {
   "cell_type": "code",
   "execution_count": null,
   "metadata": {
    "collapsed": true
   },
   "outputs": [],
   "source": [
    "pct_tmp=[parse_tag(e,False) for e in data_clean['Product tag']]\n",
    "Product_tag=[]\n",
    "for i in pct_tmp:\n",
    "    Product_tag.extend(i)\n",
    "\n",
    "Product_tag=list(set(Product_tag))"
   ]
  },
  {
   "cell_type": "code",
   "execution_count": null,
   "metadata": {
    "collapsed": true
   },
   "outputs": [],
   "source": [
    "def TF_IDF_tag(d_list):\n",
    "    tf_list=[]\n",
    "    idf_list=[]\n",
    "    for t in Product_tag:\n",
    "        #print t\n",
    "     \n",
    "        idf=0\n",
    "        tf=0\n",
    "        for d in d_list:\n",
    "            if t in d.keys():\n",
    "                tf+=d[t]\n",
    "                idf+=1.0\n",
    "            else:\n",
    "                continue\n",
    "        #print tf\n",
    "        #print idf\n",
    "        tf_list.append(tf)\n",
    "        idf_list.append(idf)\n",
    "        #print tf_list\n",
    "        #print idf_list\n",
    "    TF_IDF=[((e[0]/max(tf_list)))/np.log10(e[1]/len(d_list)) if e[0]!=0 else -1000 for e in zip(tf_list,idf_list) ]\n",
    "    Dominant_f=[(e[0],e[1]) for e in zip(Product_tag,TF_IDF) if (e[1]<np.percentile(TF_IDF,71)) and (e[1]!=1000)]\n",
    "    #return TF_IDF,max(tf_list)\n",
    "    return Dominant_f,TF_IDF"
   ]
  },
  {
   "cell_type": "code",
   "execution_count": 104,
   "metadata": {
    "collapsed": false
   },
   "outputs": [
    {
     "data": {
      "text/plain": [
       "-4.7398453644956682e-06"
      ]
     },
     "execution_count": 104,
     "metadata": {},
     "output_type": "execute_result"
    }
   ],
   "source": [
    "Product_tag_dic=[parse_tag(e,True) for e in data_clean['Product tag']]\n",
    "Dominant_f,Tf_Idf_score=TF_IDF_tag(Product_tag_dic)\n",
    "np.percentile(Tf_Idf_score,71)"
   ]
  },
  {
   "cell_type": "markdown",
   "metadata": {},
   "source": [
    "Based on obervation, score above 71 percentile=-4.7398e-06. This score happened when the tag appear only once in only onw design house, which is too rare. We eliminate all tags with this score"
   ]
  },
  {
   "cell_type": "code",
   "execution_count": null,
   "metadata": {
    "collapsed": true
   },
   "outputs": [],
   "source": [
    "len(Product_tag)"
   ]
  },
  {
   "cell_type": "code",
   "execution_count": null,
   "metadata": {
    "collapsed": true
   },
   "outputs": [],
   "source": [
    "len(Dominant_f)"
   ]
  },
  {
   "cell_type": "code",
   "execution_count": 114,
   "metadata": {
    "collapsed": true
   },
   "outputs": [],
   "source": [
    "D=[]\n",
    "V=[]\n",
    "for i in Dominant_f:\n",
    "    D.append(i[0])\n",
    "    V.append(i[1])\n",
    "Feature_D=set(D)\n",
    "\n",
    "df_d=pd.DataFrame(data=V,index=D)\n",
    "df_d.to_csv(\"Intermediate/feature_d.csv\",encoding='utf8',index=False)"
   ]
  },
  {
   "cell_type": "markdown",
   "metadata": {},
   "source": [
    "We reduce the orginal features space  by around 10000! The feature space is still large but it is better now. Can we do better? Sure! We can apply gensim to find the word with similar sematics and eliminate the similar ones. I just stop here and for some reasons(see dicussion)\n",
    "\n",
    "To caculate the similarity, I define two function BuildSim and DeSimCal. The first one is repsonsible for looping the user in the same group and DeSimCal is used to calculate the similarity among them. I don't go into the detail of implementation because it just parsing and computing"
   ]
  },
  {
   "cell_type": "code",
   "execution_count": 140,
   "metadata": {
    "collapsed": false
   },
   "outputs": [],
   "source": [
    "# Calculation of similarity scores among designer\n",
    "def DeSimCal(t,f):\n",
    "    Sim=[]\n",
    "    #print t\n",
    "    for s in f:\n",
    "        if s==t:\n",
    "            continue\n",
    "        else:\n",
    "            #print w[g_ele][f.index(s)]\n",
    "            #print s\n",
    "            common=set(s.keys()).intersection(set(t.keys()))\n",
    "            dot=0.0\n",
    "            for c in common:\n",
    "                dot+=s[c]*t[c]\n",
    "            n1=np.sqrt(sum([x*x for x in s.values()]))\n",
    "            n2=np.sqrt(sum([x*x for x in t.values()]))\n",
    "\n",
    "            Sim.append(dot/(n1*n2))\n",
    "            #print Sim\n",
    "    return f[Sim.index(max(Sim))]   "
   ]
  },
  {
   "cell_type": "code",
   "execution_count": 144,
   "metadata": {
    "collapsed": false
   },
   "outputs": [],
   "source": [
    "#THis function aims to find the top 1 similar designger of each designer\n",
    "def BuildSim(w,sim_num,k):\n",
    "    col=['Group','Designer']\n",
    "    n=[str(e) for e in range(sim_num)]\n",
    "    col.extend(n)\n",
    "    Sim_Designer=pd.DataFrame(columns=col,index=range(len(data_clean)))\n",
    "    # g_ele: group number, g_ele=0 means 0 group. \n",
    "    for g_ele in xrange(k): # from group 0 to group X . X=11 here\n",
    "        #This function parse the product tag and convert it to dictionary. \n",
    "        #The key of dicionary is produc tag represented by the index in Feature_D\n",
    "        #The value of key is the number of this prodcut tag\n",
    "        F_i=[parse_tag(data_clean.ix[int(e),'Product tag'],True) for e in w[g_ele]]\n",
    "        \n",
    "        #This list is\n",
    "        F_i_red=[]\n",
    "        for e_dic in F_i:\n",
    "            dic={}\n",
    "            #print e.keys()\n",
    "            comm=set(e_dic.keys()).intersection(Feature_D)\n",
    "            #print comm\n",
    "            for k in comm:\n",
    "                dic[list(Feature_D).index(k)]=e_dic[k]\n",
    "            F_i_red.append(dic)\n",
    "        Sim_list=[]\n",
    "        for de in xrange(len(F_i_red)):\n",
    "            target=F_i_red[de]\n",
    "            #print target.keys()\n",
    "            MostSim=DeSimCal(target,F_i_red)\n",
    "        \n",
    "            tmp=[]\n",
    "            tmp.append(g_ele)\n",
    "            tmp.append(w[g_ele][de])\n",
    "            tmp.append(w[g_ele][F_i_red.index(MostSim)])\n",
    "            Sim_Designer.ix[int(w[g_ele][de]),:]=tmp\n",
    "    return Sim_Designer\n",
    "        #return F_i_red\n",
    "        #for g in xrange(len(Group_desinger11[i])):\n",
    "        #    Similarity_Designer.ix[g,'Group']=i\n",
    "        #    Similarity_Designer.ix[g,'Designer']=Group_desinger11[i][g]"
   ]
  },
  {
   "cell_type": "code",
   "execution_count": 145,
   "metadata": {
    "collapsed": false
   },
   "outputs": [],
   "source": [
    "Similarity_Designer=BuildSim(Group_desinger11,1,11)"
   ]
  },
  {
   "cell_type": "code",
   "execution_count": 178,
   "metadata": {
    "collapsed": false
   },
   "outputs": [
    {
     "data": {
      "text/html": [
       "<div>\n",
       "<table border=\"1\" class=\"dataframe\">\n",
       "  <thead>\n",
       "    <tr style=\"text-align: right;\">\n",
       "      <th></th>\n",
       "      <th>Group</th>\n",
       "      <th>Designer</th>\n",
       "      <th>0</th>\n",
       "    </tr>\n",
       "  </thead>\n",
       "  <tbody>\n",
       "    <tr>\n",
       "      <th>0</th>\n",
       "      <td>4</td>\n",
       "      <td>0</td>\n",
       "      <td>955</td>\n",
       "    </tr>\n",
       "    <tr>\n",
       "      <th>1</th>\n",
       "      <td>4</td>\n",
       "      <td>1</td>\n",
       "      <td>2474</td>\n",
       "    </tr>\n",
       "    <tr>\n",
       "      <th>2</th>\n",
       "      <td>4</td>\n",
       "      <td>2</td>\n",
       "      <td>1026</td>\n",
       "    </tr>\n",
       "    <tr>\n",
       "      <th>3</th>\n",
       "      <td>4</td>\n",
       "      <td>3</td>\n",
       "      <td>4958</td>\n",
       "    </tr>\n",
       "    <tr>\n",
       "      <th>4</th>\n",
       "      <td>4</td>\n",
       "      <td>4</td>\n",
       "      <td>3681</td>\n",
       "    </tr>\n",
       "  </tbody>\n",
       "</table>\n",
       "</div>"
      ],
      "text/plain": [
       "  Group Designer     0\n",
       "0     4        0   955\n",
       "1     4        1  2474\n",
       "2     4        2  1026\n",
       "3     4        3  4958\n",
       "4     4        4  3681"
      ]
     },
     "execution_count": 178,
     "metadata": {},
     "output_type": "execute_result"
    }
   ],
   "source": [
    "Similarity_Designer.head()"
   ]
  },
  {
   "cell_type": "markdown",
   "metadata": {},
   "source": [
    "If we look up the similarity of group 4, we might find that some of the most similar designer we calculated is unsimilar as we expect while the others group is ok. Let's keep going as I think the purpose of the designer engine is to increase the coverage of recommendation system. So the unsimilar product could be tolerate "
   ]
  },
  {
   "cell_type": "code",
   "execution_count": 147,
   "metadata": {
    "collapsed": true
   },
   "outputs": [],
   "source": [
    "Similarity_Designer.to_csv(\"Intermediate/design_sim.csv\",sep=\",\",encoding='utf8')"
   ]
  },
  {
   "cell_type": "markdown",
   "metadata": {},
   "source": [
    "## Appendix: Finding K"
   ]
  },
  {
   "cell_type": "code",
   "execution_count": null,
   "metadata": {
    "collapsed": true
   },
   "outputs": [],
   "source": [
    "from pyspark.mllib.clustering import KMeans, KMeansModel\n",
    "error_measure=[]\n",
    "num_cluster=[]\n",
    "\n",
    "for k in range(7,31):\n",
    "    num_cluster.append(k)\n",
    "    for num_itiration in [10,15,20]:\n",
    "        clusters = KMeans.train(parse_data_final, k, maxIterations=num_itiration,runs=10, initializationMode=\"random\")\n",
    "        wsse=parse_data_final.map(lambda point: error(point)).reduce(lambda x, y: x + y)\n",
    "        error_measure.append(wsse)"
   ]
  },
  {
   "cell_type": "code",
   "execution_count": 77,
   "metadata": {
    "collapsed": true
   },
   "outputs": [],
   "source": [
    "err_it10=[x for x in error_measure if (error_measure.index(x)+1)%3==1]\n",
    "err_it15=[x for x in error_measure if (error_measure.index(x)+1)%3==2]\n",
    "err_it20=[x for x in error_measure if (error_measure.index(x)+1)%3==0]"
   ]
  },
  {
   "cell_type": "code",
   "execution_count": 78,
   "metadata": {
    "collapsed": false
   },
   "outputs": [
    {
     "data": {
      "text/plain": [
       "<matplotlib.text.Text at 0x7f62ec332a50>"
      ]
     },
     "execution_count": 78,
     "metadata": {},
     "output_type": "execute_result"
    },
    {
     "data": {
      "image/png": "[encoded data removed]",
      "text/plain": [
       "<matplotlib.figure.Figure at 0x7f62ee012a90>"
      ]
     },
     "metadata": {},
     "output_type": "display_data"
    }
   ],
   "source": [
    "%matplotlib inline\n",
    "import matplotlib\n",
    "import matplotlib.pyplot as plt\n",
    "\n",
    "plt.subplot(2, 2, 1)\n",
    "plt.plot(num_cluster, err_it10, 'ro')\n",
    "plt.title(\"10 itiration\")\n",
    "plt.ylabel('Err')\n",
    "plt.xlabel('number of clusters')\n",
    "\n",
    "plt.subplot(2, 2, 2)\n",
    "plt.plot(num_cluster, err_it15, 'ro')\n",
    "plt.title('15 itiration')\n",
    "plt.ylabel('Err')\n",
    "plt.xlabel('number of clusters')\n",
    "\n",
    "plt.subplot(2, 2, 3)\n",
    "plt.plot(num_cluster, err_it20, 'ro')\n",
    "plt.title('20 itiration')\n",
    "plt.ylabel('Err')\n",
    "plt.xlabel('number of clusters')"
   ]
  },
  {
   "cell_type": "markdown",
   "metadata": {},
   "source": [
    "We choose iteration time =20 because it seems to be more stable. For the number of clusters, we examine the k around elbow and decided by the distribution of number in each group. We chooae the k that enable the group number distribution less skew"
   ]
  },
  {
   "cell_type": "markdown",
   "metadata": {},
   "source": [
    "K=27"
   ]
  },
  {
   "cell_type": "code",
   "execution_count": 127,
   "metadata": {
    "collapsed": true
   },
   "outputs": [],
   "source": [
    "clusters_k27 = KMeans.train(parse_data_final,27, maxIterations=20,runs=10, initializationMode=\"random\")\n",
    "prediction_k27=parse_data.map(lambda p:(p[0],p[1],clusters_k27.predict(p[1])))"
   ]
  },
  {
   "cell_type": "code",
   "execution_count": 129,
   "metadata": {
    "collapsed": false
   },
   "outputs": [
    {
     "data": {
      "text/plain": [
       "[3,\n",
       " 3,\n",
       " 1,\n",
       " 33,\n",
       " 4,\n",
       " 3,\n",
       " 17,\n",
       " 17,\n",
       " 3,\n",
       " 13,\n",
       " 28,\n",
       " 248,\n",
       " 3,\n",
       " 65,\n",
       " 25,\n",
       " 11,\n",
       " 35,\n",
       " 30,\n",
       " 23,\n",
       " 1,\n",
       " 100,\n",
       " 17,\n",
       " 56,\n",
       " 57,\n",
       " 4071,\n",
       " 323,\n",
       " 4]"
      ]
     },
     "execution_count": 129,
     "metadata": {},
     "output_type": "execute_result"
    }
   ],
   "source": [
    "Group_num27,Group_feature27,Group_desinger27=CalGroupInfo(prediction_k27,27)\n",
    "Group_num27\n",
    "#you can uncomment the line belowe to see the group info\n",
    "#TellGroupInfo(Group_num27,Group_feature27,Group_desinger27)"
   ]
  },
  {
   "cell_type": "markdown",
   "metadata": {},
   "source": [
    "k=19"
   ]
  },
  {
   "cell_type": "code",
   "execution_count": 106,
   "metadata": {
    "collapsed": false
   },
   "outputs": [
    {
     "data": {
      "text/plain": [
       "[17, 39, 42, 120, 156, 3, 261, 13, 52, 1, 53, 79, 10, 12, 4, 4, 47, 7, 4274]"
      ]
     },
     "execution_count": 106,
     "metadata": {},
     "output_type": "execute_result"
    }
   ],
   "source": [
    "clusters_k19 = KMeans.train(parse_data_final,19, maxIterations=20,runs=10, initializationMode=\"random\")\n",
    "prediction_k19=parse_data.map(lambda p:(p[0],p[1],clusters_k19.predict(p[1])))\n",
    "Group_num19,Group_feature19,Group_desinger19=CalGroupInfo(prediction_k19,19)\n",
    "Group_num19\n",
    "#you can uncomment the line below to see th group info\n",
    "#TellGroupInfo(Group_num19,Group_feature19,Group_desinger19)"
   ]
  },
  {
   "cell_type": "markdown",
   "metadata": {},
   "source": [
    "k=15"
   ]
  },
  {
   "cell_type": "code",
   "execution_count": 130,
   "metadata": {
    "collapsed": false
   },
   "outputs": [
    {
     "data": {
      "text/plain": [
       "[10, 4265, 325, 16, 1, 18, 86, 29, 274, 35, 70, 25, 3, 24, 13]"
      ]
     },
     "execution_count": 130,
     "metadata": {},
     "output_type": "execute_result"
    }
   ],
   "source": [
    "from pyspark.mllib.clustering import KMeans, KMeansModel\n",
    "clusters_k15 = KMeans.train(parse_data_final,15, maxIterations=20,runs=10, initializationMode=\"random\")\n",
    "prediction_k15=parse_data.map(lambda p:(p[0],p[1],clusters_k15.predict(p[1])))\n",
    "Group_num15,Group_feature15,Group_desinger15=CalGroupInfo(prediction_k15,15)\n",
    "Group_num15\n",
    "#you can uncomment the line below to see th group info\n",
    "#TellGroupInfo(Group_num15,Group_feature15,Group_desinger15)"
   ]
  }
 ],
 "metadata": {
  "kernelspec": {
   "display_name": "Python 2",
   "language": "python",
   "name": "python2"
  },
  "language_info": {
   "codemirror_mode": {
    "name": "ipython",
    "version": 2
   },
   "file_extension": ".py",
   "mimetype": "text/x-python",
   "name": "python",
   "nbconvert_exporter": "python",
   "pygments_lexer": "ipython2",
   "version": "2.7.11"
  }
 },
 "nbformat": 4,
 "nbformat_minor": 0
}
