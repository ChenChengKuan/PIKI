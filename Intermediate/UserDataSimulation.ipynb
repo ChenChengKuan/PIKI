{
 "cells": [
  {
   "cell_type": "markdown",
   "metadata": {},
   "source": [
    "#User Data Simulation\n",
    "In this part, we aim to generate customer purchase record needed to build recommender engine. To generate such data, I assume there exist a transitive relation among designer-product-customer, which means I assume that the characteristic group appear in designer will also appear in the customer. I make this assumption based on the rule of supply and demand. If there is a group of designer focus on selling brooks, necklase or bracelat, there must exist a specific group of customer that consume such product.<br>\n",
    "\n",
    "\n",
    "To achieve this goal. we have to split customers into active and non-active customers based on 20-80 rule. 20% is active user while the reamining is non-active user. In both group, we further divide customers based on cluster of designer. The numnber of each cluster is propotional to the size of cluster calculated in ExploratoryAnalysis-Designer.<br><br> The only difference between two groups is that the active customer shows stronger group characterstic. For example, if a customer is both active user and a bracelet/brooks/necklase lover, then bracelet/brooks/necklase product will account for,say, 65% percent of her prodcut while the remainging 35% would be randomly chosen from all products. This characteristic is implemented by the weight alpha in UserDicGenerator.<br><br>\n",
    "\n",
    "Here we implement two functions, one is UserDataGenerator and the other is UserDicGenerator. The former focus on split the customers into active and non-active and decide how many customers should be in a specific group. The latter focus on deciding how many percent of the purchase represent the group characteristic of a customer."
   ]
  },
  {
   "cell_type": "code",
   "execution_count": 2,
   "metadata": {
    "collapsed": true
   },
   "outputs": [],
   "source": [
    "import pandas as pd\n",
    "import numpy as np"
   ]
  },
  {
   "cell_type": "code",
   "execution_count": 45,
   "metadata": {
    "collapsed": false
   },
   "outputs": [],
   "source": [
    "Data=pd.read_csv('Intermediate/data_final.csv',sep=\",\",encoding='utf8',low_memory=False)\n",
    "UserData=Data[['category','tid','subcategory','Product Tag','owner']]"
   ]
  },
  {
   "cell_type": "code",
   "execution_count": 12,
   "metadata": {
    "collapsed": false
   },
   "outputs": [
    {
     "data": {
      "text/html": [
       "<div style=\"max-height:1000px;max-width:1500px;overflow:auto;\">\n",
       "<table border=\"1\" class=\"dataframe\">\n",
       "  <thead>\n",
       "    <tr style=\"text-align: right;\">\n",
       "      <th></th>\n",
       "      <th>category</th>\n",
       "      <th>tid</th>\n",
       "      <th>subcategory</th>\n",
       "      <th>Product Tag</th>\n",
       "      <th>owner</th>\n",
       "    </tr>\n",
       "  </thead>\n",
       "  <tbody>\n",
       "    <tr>\n",
       "      <th>0</th>\n",
       "      <td>  3</td>\n",
       "      <td> 1fAYZRbb</td>\n",
       "      <td>   紙膠帶</td>\n",
       "      <td>              紙膠帶</td>\n",
       "      <td> yuhuirustudio</td>\n",
       "    </tr>\n",
       "    <tr>\n",
       "      <th>1</th>\n",
       "      <td> 10</td>\n",
       "      <td> 1Wpbjtdt</td>\n",
       "      <td> 糖果/軟糖</td>\n",
       "      <td>  乾果醬,交換禮物,繽紛,聖誕節</td>\n",
       "      <td>   doggysweets</td>\n",
       "    </tr>\n",
       "    <tr>\n",
       "      <th>2</th>\n",
       "      <td>  1</td>\n",
       "      <td> 1cf23LXr</td>\n",
       "      <td>   手提包</td>\n",
       "      <td>              手提帶</td>\n",
       "      <td>        ningoo</td>\n",
       "    </tr>\n",
       "    <tr>\n",
       "      <th>3</th>\n",
       "      <td>  2</td>\n",
       "      <td> 1XkKaVA0</td>\n",
       "      <td>    髮飾</td>\n",
       "      <td>       好煩小姐,髮帶,點點</td>\n",
       "      <td>      mshowfan</td>\n",
       "    </tr>\n",
       "    <tr>\n",
       "      <th>4</th>\n",
       "      <td>  2</td>\n",
       "      <td> 1cDqf1tY</td>\n",
       "      <td>    髮飾</td>\n",
       "      <td> 好煩小姐,復古,手作,混織,髮帶</td>\n",
       "      <td>      mshowfan</td>\n",
       "    </tr>\n",
       "  </tbody>\n",
       "</table>\n",
       "</div>"
      ],
      "text/plain": [
       "   category       tid subcategory       Product Tag          owner\n",
       "0         3  1fAYZRbb         蝝��撣�              蝝��撣� yuhuirustudio\n",
       "1        10  1Wpbjtdt       蝟��/頠��   銋暹���鈭斗�蝳桃�,蝜賜�,���蝭�   doggysweets\n",
       "2         1  1cf23LXr         �����              ���撣�        ningoo\n",
       "3         2  1XkKaVA0          擃桅ˇ        憟賜�撠��,擃桀葆,暺��       mshowfan\n",
       "4         2  1cDqf1tY          擃桅ˇ  憟賜�撠��,敺拙�,���,瘛瑞�,擃桀葆       mshowfan"
      ]
     },
     "execution_count": 12,
     "metadata": {},
     "output_type": "execute_result"
    }
   ],
   "source": [
    "UserData.head()"
   ]
  },
  {
   "cell_type": "code",
   "execution_count": 4,
   "metadata": {
    "collapsed": false
   },
   "outputs": [],
   "source": [
    "g_num=list(pd.read_csv(\"Intermediate/group_num.csv\",sep=\",\",encoding='utf8',header=None)[0])\n",
    "g_ratio=[float(e)/float(sum(g_num)) for e in g_num]\n",
    "criteria=pd.read_csv(\"Intermediate/criteria.csv\",sep=\",\",encoding='utf8')"
   ]
  },
  {
   "cell_type": "markdown",
   "metadata": {},
   "source": [
    "This table is the group characteris of each group, which is generated according to the ExploratoryAnalysis-Designer. The higher the column index, the less representative it is. For example, for the group 3, from the most representative to less is 杯墊->圍兜/領巾/配件->髮飾->耳環-> \t捲線器/電線收納"
   ]
  },
  {
   "cell_type": "code",
   "execution_count": 14,
   "metadata": {
    "collapsed": false
   },
   "outputs": [
    {
     "data": {
      "text/html": [
       "<div style=\"max-height:1000px;max-width:1500px;overflow:auto;\">\n",
       "<table border=\"1\" class=\"dataframe\">\n",
       "  <thead>\n",
       "    <tr style=\"text-align: right;\">\n",
       "      <th></th>\n",
       "      <th>0</th>\n",
       "      <th>1</th>\n",
       "      <th>2</th>\n",
       "      <th>3</th>\n",
       "      <th>4</th>\n",
       "    </tr>\n",
       "  </thead>\n",
       "  <tbody>\n",
       "    <tr>\n",
       "      <th>0</th>\n",
       "      <td> iPhone 週邊</td>\n",
       "      <td> Android 週邊</td>\n",
       "      <td>    肩背包/斜背包</td>\n",
       "      <td>   平板/電腦保護套</td>\n",
       "      <td>        電腦包</td>\n",
       "    </tr>\n",
       "    <tr>\n",
       "      <th>1</th>\n",
       "      <td>       媽媽包</td>\n",
       "      <td>       啟發玩具</td>\n",
       "      <td>         童鞋</td>\n",
       "      <td>         童裝</td>\n",
       "      <td>       彌月收涎</td>\n",
       "    </tr>\n",
       "    <tr>\n",
       "      <th>2</th>\n",
       "      <td>        杯墊</td>\n",
       "      <td>   圍兜/領巾/配件</td>\n",
       "      <td>         髮飾</td>\n",
       "      <td>         耳環</td>\n",
       "      <td>   捲線器/電線收納</td>\n",
       "    </tr>\n",
       "    <tr>\n",
       "      <th>3</th>\n",
       "      <td>     皮夾/錢包</td>\n",
       "      <td>      束口後背包</td>\n",
       "      <td>        後背包</td>\n",
       "      <td>        零錢包</td>\n",
       "      <td>        手提包</td>\n",
       "    </tr>\n",
       "    <tr>\n",
       "      <th>4</th>\n",
       "      <td>        胸針</td>\n",
       "      <td>      項鍊/墜子</td>\n",
       "      <td>         髮飾</td>\n",
       "      <td>    鑰匙圈/鑰匙包</td>\n",
       "      <td>         耳環</td>\n",
       "    </tr>\n",
       "    <tr>\n",
       "      <th>5</th>\n",
       "      <td> 外套/大衣 (女)</td>\n",
       "      <td>      項鍊/墜子</td>\n",
       "      <td>         裙子</td>\n",
       "      <td> 針織衫/毛衣 (女)</td>\n",
       "      <td>     襯衫 (女)</td>\n",
       "    </tr>\n",
       "    <tr>\n",
       "      <th>6</th>\n",
       "      <td>      串珠材料</td>\n",
       "      <td>      手鍊/手環</td>\n",
       "      <td>         胸針</td>\n",
       "      <td>         戒指</td>\n",
       "      <td>      項鍊/墜子</td>\n",
       "    </tr>\n",
       "    <tr>\n",
       "      <th>7</th>\n",
       "      <td>        貼紙</td>\n",
       "      <td>     筆記本/手帳</td>\n",
       "      <td>    化妝包/雜物包</td>\n",
       "      <td>     卡片/明信片</td>\n",
       "      <td>         杯墊</td>\n",
       "    </tr>\n",
       "    <tr>\n",
       "      <th>8</th>\n",
       "      <td>        杯墊</td>\n",
       "      <td>    鑰匙圈/鑰匙包</td>\n",
       "      <td> Android 週邊</td>\n",
       "      <td>     票夾/隨身夾</td>\n",
       "      <td>    咖啡杯/馬克杯</td>\n",
       "    </tr>\n",
       "    <tr>\n",
       "      <th>9</th>\n",
       "      <td> iPhone 週邊</td>\n",
       "      <td>        手提包</td>\n",
       "      <td>     上衣 (女)</td>\n",
       "      <td>    T 恤 (女)</td>\n",
       "      <td> 上衣/T 恤 (男)</td>\n",
       "    </tr>\n",
       "  </tbody>\n",
       "</table>\n",
       "</div>"
      ],
      "text/plain": [
       "           0           1           2           3           4\n",
       "0  iPhone �梢�  Android �梢�     �抵��������   撟單�/�餉�靽�風憟�        �餉���\n",
       "1        慦賢直��       ����拙�          蝡仿�          蝡亥�        敶���嗆�\n",
       "2         �臬�    ���/��溝/��辣          擃桅ˇ          �喟�    �脩����餌��嗥�\n",
       "3      �桀冗/�Ｗ�       ���敺����        敺����        �園���        �����\n",
       "4         �賊�       ���/憓��          擃桅ˇ     �啣����啣���         �喟�\n",
       "5  憭��/憭扯﹝ (憟�       ���/憓��          鋆��  ���銵�瘥�﹝ (憟�      镼航‵ (憟�\n",
       "6       銝脩����       ���/���          �賊�          ���       ���/憓��\n",
       "7         鞎潛�      蝑������董     ����������     �∠�/��縑��         �臬�\n",
       "8         �臬�     �啣����啣��� Android �梢�      蟡典冗/�刻澈憭�    �����擐砍���\n",
       "9  iPhone �梢�         �����     銝�﹝ (憟�     T ��(憟�  銝�﹝/T ��(��"
      ]
     },
     "execution_count": 14,
     "metadata": {},
     "output_type": "execute_result"
    }
   ],
   "source": [
    "criteria"
   ]
  },
  {
   "cell_type": "code",
   "execution_count": 47,
   "metadata": {
    "collapsed": true
   },
   "outputs": [],
   "source": [
    "def UserDataGenerator(num):\n",
    "    #Split the customers into two groups： 20％ active and 80％ non active\n",
    "    act_num=0.2*num\n",
    "    non_act_num=0.8*num\n",
    "\n",
    "    #Randomly choose customer's ID to be active customer, the remaining ID are non active customers\n",
    "    act_user=np.random.choice(num,act_num,replace=False)\n",
    "    non_act_user=list(set(range(num)).difference(set(act_user)))\n",
    "    \n",
    "    Userdic_act=[]\n",
    "    Userdic_nonact=[]\n",
    "    for g in range(len(g_ratio)-1):\n",
    "        #The number of g_size_act, g_size_nonact determine how many customers in the active and non-active respectively\n",
    "        g_size_act=int(g_ratio[g]*act_num) \n",
    "        g_size_nonact=int(g_ratio[g]*non_act_num)\n",
    "        \n",
    "        #choose the numnber of customer according to the size\n",
    "        g_user_act=act_user[0:g_size_act]\n",
    "        g_user_nonact=non_act_user[0:g_size_nonact]\n",
    "        \n",
    "        #Delete the customer ID which have been chosen from the original list\n",
    "        act_user=[e for e in act_user if e not in g_user_act]\n",
    "        non_act_user=[e for e in non_act_user if e not in g_user_nonact]\n",
    "        \n",
    "        #Generate the customer data according to following dictionary fomat:\n",
    "        #{'UID':XXX 'Subcategory','subcategory':XXX,'Product Tag':XXX,'tid':xxxxxxx,'designer':xxxxxx}\n",
    "        #Alpha is the strength of tendency whether a user tend to represent the character of group, see UserDicGenerator\n",
    "        #The alpha of the active can be arbitary chosen from 0.5~0.99 while 0.0~0.5 for the non-active\n",
    "        #Here we use 0.6 for active and 0.3 for non active\n",
    "        #print \"test\"\n",
    "        Userdic_act.extend(UserDicGenerator(g_user_act,0.6,criteria.ix[g]))\n",
    "        Userdic_nonact.extend(UserDicGenerator(g_user_nonact,0.3,criteria.ix[g]))\n",
    "        \n",
    "    return Userdic_act,Userdic_nonact"
   ]
  },
  {
   "cell_type": "code",
   "execution_count": 48,
   "metadata": {
    "collapsed": true
   },
   "outputs": [],
   "source": [
    "def UserDicGenerator(u_list,alpha,c):\n",
    "    udic=[]\n",
    "    for u in u_list:\n",
    "        #Declare the dicionary used to store customer data\n",
    "        dic={}\n",
    "        dic['UID']=u\n",
    "        dic['subcategory']=[]\n",
    "        dic['Product Tag']=[]\n",
    "        dic['tid']=[]\n",
    "        dic['designer']=[]\n",
    "        \n",
    "        #alpha=0.6 is just randomly choose. this value is given to actvie user to represent it have more chance to represent the characteristiv\n",
    "        #of group\n",
    "        #We define the active customer have 10~20 purchase records while the non active customers are less than 10 \n",
    "        if alpha==0.6:\n",
    "            draw=np.random.randint(10,20)\n",
    "        else:\n",
    "            draw=np.random.randint(1,10)\n",
    "        tmp_draw=draw\n",
    "        tmp=0\n",
    "        while tmp_draw>0:\n",
    "            dic['subcategory'].append(c[tmp%len(c)])#pick product with first subcategory then second, third....\n",
    "            choice=UserData[UserData['subcategory']==c[tmp%len(c)]].index\n",
    "            purchase=UserData.ix[np.random.choice(choice,1),:]\n",
    "            dic['tid'].extend(purchase['tid'])\n",
    "            dic['Product Tag'].extend(purchase['Product Tag'])\n",
    "            dic['designer'].extend(purchase['owner'])\n",
    "            \n",
    "            #if the customer already has alpha％ representative product, then the remaining 1-alpha ％ would be randomly choosen\n",
    "            #here we add another 0.3 to add more variety, so the active customer can have 0.6~0.9 representative data while 0.3~0.6 for nonactive ones\n",
    "            #The reason why I let non active customer have chance to buy more than half percent representative data is to add noise, which aims to\n",
    "            #make the dataset more close to reality\n",
    "            if tmp_draw<int(draw*(1.0-np.random.uniform(alpha,alpha+0.3))):\n",
    "                choice=UserData.index\n",
    "                purchase=UserData.ix[np.random.choice(choice,1),:]\n",
    "                dic['subcategory'].extend(purchase['subcategory'])\n",
    "                dic['tid'].extend(purchase['tid'])\n",
    "                dic['Product Tag'].extend(purchase['Product Tag'])\n",
    "                dic['designer'].extend(purchase['owner'])\n",
    "            tmp+=1\n",
    "            tmp_draw-=1\n",
    "        udic.append(dic)\n",
    "    return udic\n",
    "    "
   ]
  },
  {
   "cell_type": "code",
   "execution_count": 77,
   "metadata": {
    "collapsed": false
   },
   "outputs": [],
   "source": [
    "#Generate the purchse record of 5000 unique user and combine together\n",
    "d_act,d_nonact=UserDataGenerator(5000)\n",
    "D=[]\n",
    "D.extend(d_act)\n",
    "D.extend(d_nonact)"
   ]
  },
  {
   "cell_type": "code",
   "execution_count": 78,
   "metadata": {
    "collapsed": true
   },
   "outputs": [],
   "source": [
    "#Convert each user data from dic to dataframe then concatenate\n",
    "tmp_df=[pd.DataFrame(e) for e in D]\n",
    "TmpUserData=pd.concat(tmp_df,axis=0)\n",
    "TmpUserData.index=range(len(TmpUserData))"
   ]
  },
  {
   "cell_type": "code",
   "execution_count": 79,
   "metadata": {
    "collapsed": true
   },
   "outputs": [],
   "source": [
    "#Groupby features by UID\n",
    "G_design=TmpUserData.groupby('UID')['designer'].apply(lambda x:\",\".join(x))\n",
    "G_tid=TmpUserData.groupby('UID')['tid'].apply(lambda x:\",\".join(x))\n",
    "G_sub=TmpUserData.groupby('UID')['subcategory'].apply(lambda x:\",\".join(x))\n",
    "G_Pdtag=TmpUserData.groupby('UID')['Product Tag'].apply(lambda x:\",\".join(x))\n",
    "\n",
    "UserDf=pd.DataFrame(data=np.transpose([range(len(G_design)),G_design.values,G_tid.values,G_sub.values,G_Pdtag.values]),columns=['UID','designer','tid','subcategory','Product Tag'])\n"
   ]
  },
  {
   "cell_type": "code",
   "execution_count": 52,
   "metadata": {
    "collapsed": false
   },
   "outputs": [
    {
     "data": {
      "text/html": [
       "<div style=\"max-height:1000px;max-width:1500px;overflow:auto;\">\n",
       "<table border=\"1\" class=\"dataframe\">\n",
       "  <thead>\n",
       "    <tr style=\"text-align: right;\">\n",
       "      <th></th>\n",
       "      <th>UID</th>\n",
       "      <th>designer</th>\n",
       "      <th>tid</th>\n",
       "      <th>subcategory</th>\n",
       "      <th>Product Tag</th>\n",
       "    </tr>\n",
       "  </thead>\n",
       "  <tbody>\n",
       "    <tr>\n",
       "      <th>0</th>\n",
       "      <td> 0</td>\n",
       "      <td> decouart,beebipeace,yuni-handicraft,pixostyle,...</td>\n",
       "      <td> 12hKzVrR,1Z9PLIkF,1uZFROja,1SCt77gk,1DiiGyna,1...</td>\n",
       "      <td>   iPhone 週邊,Android 週邊,肩背包/斜背包,平板/電腦保護套,電腦包,手鍊/手環</td>\n",
       "      <td> 花,女生,幾何,抽象,floral,green,white,samsungs5,samsun...</td>\n",
       "    </tr>\n",
       "    <tr>\n",
       "      <th>1</th>\n",
       "      <td> 1</td>\n",
       "      <td> umade,jkzakka-tw,designsurfing,snupped,hellolu...</td>\n",
       "      <td> 17pJo4WQ,1HKJoFtW,1RPxxBCt,115GBxFE,1FasZHpZ,1...</td>\n",
       "      <td> iPhone 週邊,Android 週邊,肩背包/斜背包,平板/電腦保護套,電腦包,手鍊/手...</td>\n",
       "      <td> htc,藝術創作,sony,插畫,handmade,海,攝影作品,攝影photography...</td>\n",
       "    </tr>\n",
       "    <tr>\n",
       "      <th>2</th>\n",
       "      <td> 2</td>\n",
       "      <td> emmptyforest,davidloumang,dessin,pixostyle,gym...</td>\n",
       "      <td> 1FA2Zm8S,1mPcr5qv,1A7nI2jr,1WEHFnos,1hFcOv55,1...</td>\n",
       "      <td> iPhone 週邊,Android 週邊,肩背包/斜背包,平板/電腦保護套,電腦包,iPho...</td>\n",
       "      <td> design,handmade,創意,客製化禮物,手作,手機殼,押花,禮物,設計,情人節,i...</td>\n",
       "    </tr>\n",
       "    <tr>\n",
       "      <th>3</th>\n",
       "      <td> 3</td>\n",
       "      <td>                                     madebyflowers</td>\n",
       "      <td>                                          1_N2iiua</td>\n",
       "      <td>                                         iPhone 週邊</td>\n",
       "      <td> design,簡約,禮物,禮品,手工,手作,情人節,客製化禮物,可愛,創意,handmade,設計</td>\n",
       "    </tr>\n",
       "    <tr>\n",
       "      <th>4</th>\n",
       "      <td> 4</td>\n",
       "      <td>          saykishish,domoreidea,eclotdesign,befine</td>\n",
       "      <td>               1eyLzcRR,1tWuC8cp,1euEGmJr,1U6aDzXw</td>\n",
       "      <td>             iPhone 週邊,Android 週邊,肩背包/斜背包,平板/電腦保護套</td>\n",
       "      <td> 復古,手工,手工皮革,皮革,簡約,手機包,萬用包,design,handmade,leath...</td>\n",
       "    </tr>\n",
       "  </tbody>\n",
       "</table>\n",
       "</div>"
      ],
      "text/plain": [
       "  UID                                           designer  \\\n",
       "0   0  decouart,beebipeace,yuni-handicraft,pixostyle,...   \n",
       "1   1  umade,jkzakka-tw,designsurfing,snupped,hellolu...   \n",
       "2   2  emmptyforest,davidloumang,dessin,pixostyle,gym...   \n",
       "3   3                                      madebyflowers   \n",
       "4   4           saykishish,domoreidea,eclotdesign,befine   \n",
       "\n",
       "                                                 tid  \\\n",
       "0  12hKzVrR,1Z9PLIkF,1uZFROja,1SCt77gk,1DiiGyna,1...   \n",
       "1  17pJo4WQ,1HKJoFtW,1RPxxBCt,115GBxFE,1FasZHpZ,1...   \n",
       "2  1FA2Zm8S,1mPcr5qv,1A7nI2jr,1WEHFnos,1hFcOv55,1...   \n",
       "3                                           1_N2iiua   \n",
       "4                1eyLzcRR,1tWuC8cp,1euEGmJr,1U6aDzXw   \n",
       "\n",
       "                                         subcategory  \\\n",
       "0    iPhone �梢�,Android �梢�,�抵��������撟單�/�餉�靽�風憟��餉������/���   \n",
       "1  iPhone �梢�,Android �梢�,�抵��������撟單�/�餉�靽�風憟��餉������/��..   \n",
       "2  iPhone �梢�,Android �梢�,�抵��������撟單�/�餉�靽�風憟��餉���iPho...   \n",
       "3                                          iPhone �梢�   \n",
       "4              iPhone �梢�,Android �梢�,�抵��������撟單�/�餉�靽�風憟�  \n",
       "\n",
       "                                         Product Tag  \n",
       "0  ��憟喟�,撟曆�,�質情,floral,green,white,samsungs5,samsun...  \n",
       "1  htc,����萎�,sony,���,handmade,瘚���蔣雿��,��蔣photography...  \n",
       "2  design,handmade,�菜�,摰Ｚˊ��旨�����,���畾��潸�,蝳桃�,閮剛�,��犖蝭�i...  \n",
       "3  design,蝪∠�,蝳桃�,蝳桀�,��極,���,��犖蝭�摰Ｚˊ��旨���舀�,�菜�,handmade,閮剛�  \n",
       "4  敺拙�,��極,��極�桅�,�桅�,蝪∠�,������祉���design,handmade,leath...  "
      ]
     },
     "execution_count": 52,
     "metadata": {},
     "output_type": "execute_result"
    }
   ],
   "source": [
    "UserDf.head()"
   ]
  },
  {
   "cell_type": "code",
   "execution_count": 80,
   "metadata": {
    "collapsed": true
   },
   "outputs": [],
   "source": [
    "UserDf['Content weight']=np.random.uniform(0,1,len(UserDf))\n",
    "UserDf['Style weight']=1.0-UserDf['Content weight']"
   ]
  },
  {
   "cell_type": "code",
   "execution_count": 81,
   "metadata": {
    "collapsed": false
   },
   "outputs": [
    {
     "data": {
      "text/html": [
       "<div style=\"max-height:1000px;max-width:1500px;overflow:auto;\">\n",
       "<table border=\"1\" class=\"dataframe\">\n",
       "  <thead>\n",
       "    <tr style=\"text-align: right;\">\n",
       "      <th></th>\n",
       "      <th>UID</th>\n",
       "      <th>designer</th>\n",
       "      <th>tid</th>\n",
       "      <th>subcategory</th>\n",
       "      <th>Product Tag</th>\n",
       "      <th>Content weight</th>\n",
       "      <th>Style weight</th>\n",
       "    </tr>\n",
       "  </thead>\n",
       "  <tbody>\n",
       "    <tr>\n",
       "      <th>0</th>\n",
       "      <td> 0</td>\n",
       "      <td> panicjunkie,beanbeancase,lovespringtime,innere...</td>\n",
       "      <td> 1LNcMozq,1fKcWUPZ,1dWKrV5w,1NrPloT8,1xo784ZW,1...</td>\n",
       "      <td> iPhone 週邊,Android 週邊,肩背包/斜背包,平板/電腦保護套,電腦包,束口後背...</td>\n",
       "      <td> iPhone 週邊,6,plus,nexus5,nexus4,nexus,nexus6,ht...</td>\n",
       "      <td> 0.050896</td>\n",
       "      <td> 0.949104</td>\n",
       "    </tr>\n",
       "    <tr>\n",
       "      <th>1</th>\n",
       "      <td> 1</td>\n",
       "      <td> edie,googoods,wakakuwa,kimmidoll,wunghuh,daffo...</td>\n",
       "      <td> 1R9IzDnu,149GTys_,18H5ZFLX,159QNvoZ,1z4JPC9Z,1...</td>\n",
       "      <td> 胸針,項鍊/墜子,髮飾,鑰匙圈/鑰匙包,耳環,胸針,項鍊/墜子,髮飾,鑰匙圈/鑰匙包,耳環,...</td>\n",
       "      <td> 交換禮物,情人節禮物,生日禮物,禮物,不鏽鋼,つまみ細工,和風髮飾,手作,日式布花,日本花簪...</td>\n",
       "      <td> 0.806415</td>\n",
       "      <td> 0.193585</td>\n",
       "    </tr>\n",
       "    <tr>\n",
       "      <th>2</th>\n",
       "      <td> 2</td>\n",
       "      <td> deliatai,oone-n-only,tsukiniyorosiku,twine,ses...</td>\n",
       "      <td> 1EB9FX2e,1MZaVziY,1YY6E82N,1TaTLdiX,14yhgn_L,1...</td>\n",
       "      <td> 胸針,項鍊/墜子,髮飾,鑰匙圈/鑰匙包,耳環,胸針,項鍊/墜子,髮飾,鑰匙圈/鑰匙包,耳環,...</td>\n",
       "      <td> 小太出品,小小人,絢太你好,胸章,design,handmade,natural系列,手工,...</td>\n",
       "      <td> 0.036503</td>\n",
       "      <td> 0.963497</td>\n",
       "    </tr>\n",
       "    <tr>\n",
       "      <th>3</th>\n",
       "      <td> 3</td>\n",
       "      <td> iamidesign,littleprince,everythinginbetween,si...</td>\n",
       "      <td>      14Rq3sEa,1VTZwwBQ,1xoV23DQ,1f1NhrOS,1XBJ0jUP</td>\n",
       "      <td>         iPhone 週邊,Android 週邊,肩背包/斜背包,平板/電腦保護套,其他7</td>\n",
       "      <td> 聖誕節,貓,中秋節,手機殼,iphone6,畢業,悠遊卡手機殼,情人節,悠遊卡保護殼,悠遊卡...</td>\n",
       "      <td> 0.883987</td>\n",
       "      <td> 0.116013</td>\n",
       "    </tr>\n",
       "    <tr>\n",
       "      <th>4</th>\n",
       "      <td> 4</td>\n",
       "      <td> bang-on-shop,pollinosis,lunablue,nadia,ishan13...</td>\n",
       "      <td> 1xfaWs4D,1lwO72OY,1unlj5pu,1ukhY4Bu,1xHzNBML,1...</td>\n",
       "      <td> 胸針,項鍊/墜子,髮飾,鑰匙圈/鑰匙包,耳環,胸針,項鍊/墜子,髮飾,鑰匙圈/鑰匙包,耳環,...</td>\n",
       "      <td> design,handmade,natural系列,wood,獨一無二,白水晶,治療,透明,...</td>\n",
       "      <td> 0.591378</td>\n",
       "      <td> 0.408622</td>\n",
       "    </tr>\n",
       "  </tbody>\n",
       "</table>\n",
       "</div>"
      ],
      "text/plain": [
       "  UID                                           designer  \\\n",
       "0   0  panicjunkie,beanbeancase,lovespringtime,innere...   \n",
       "1   1  edie,googoods,wakakuwa,kimmidoll,wunghuh,daffo...   \n",
       "2   2  deliatai,oone-n-only,tsukiniyorosiku,twine,ses...   \n",
       "3   3  iamidesign,littleprince,everythinginbetween,si...   \n",
       "4   4  bang-on-shop,pollinosis,lunablue,nadia,ishan13...   \n",
       "\n",
       "                                                 tid  \\\n",
       "0  1LNcMozq,1fKcWUPZ,1dWKrV5w,1NrPloT8,1xo784ZW,1...   \n",
       "1  1R9IzDnu,149GTys_,18H5ZFLX,159QNvoZ,1z4JPC9Z,1...   \n",
       "2  1EB9FX2e,1MZaVziY,1YY6E82N,1TaTLdiX,14yhgn_L,1...   \n",
       "3       14Rq3sEa,1VTZwwBQ,1xoV23DQ,1f1NhrOS,1XBJ0jUP   \n",
       "4  1xfaWs4D,1lwO72OY,1unlj5pu,1ukhY4Bu,1xHzNBML,1...   \n",
       "\n",
       "                                         subcategory  \\\n",
       "0  iPhone �梢�,Android �梢�,�抵��������撟單�/�餉�靽�風憟��餉������敺��...   \n",
       "1  �賊�,���/憓��,擃桅ˇ,�啣����啣����喟�,�賊�,���/憓��,擃桅ˇ,�啣����啣����喟�,...   \n",
       "2  �賊�,���/憓��,擃桅ˇ,�啣����啣����喟�,�賊�,���/憓��,擃桅ˇ,�啣����啣����喟�,...   \n",
       "3          iPhone �梢�,Android �梢�,�抵��������撟單�/�餉�靽�風憟��嗡�7   \n",
       "4  �賊�,���/憓��,擃桅ˇ,�啣����啣����喟�,�賊�,���/憓��,擃桅ˇ,�啣����啣����喟�,...   \n",
       "\n",
       "                                         Product Tag  Content weight  \\\n",
       "0  iPhone �梢�,6,plus,nexus5,nexus4,nexus,nexus6,ht...        0.050896   \n",
       "1  鈭斗�蝳桃�,��犖蝭�旨�����蝳桃�,蝳桃�,銝�����扎��輻敦撌���◢擃桅ˇ,���,�亙�撣��,�交��梁高...        0.806415   \n",
       "2  撠�云�箏�,撠��鈭�蝯Ｗ云雿�末,�貊�,design,handmade,natural蝟餃�,��極,...        0.036503   \n",
       "3  ���蝭�鞎�銝剔�蝭����畾�iphone6,�Ｘ平,����⊥�璈�挺,��犖蝭�����∩�霅瑟挺,�����..        0.883987   \n",
       "4  design,handmade,natural蝟餃�,wood,�其��∩�,�賣偌��瘝餌�,���,...        0.591378   \n",
       "\n",
       "   Style weight  \n",
       "0      0.949104  \n",
       "1      0.193585  \n",
       "2      0.963497  \n",
       "3      0.116013  \n",
       "4      0.408622  "
      ]
     },
     "execution_count": 81,
     "metadata": {},
     "output_type": "execute_result"
    }
   ],
   "source": [
    "UserDf.head()"
   ]
  },
  {
   "cell_type": "markdown",
   "metadata": {},
   "source": [
    "##Purify\n",
    "Recall that have calculated the representative product tag in the ExploratoryAnalysis-Product by TF-IDF. We have to purify the rare product tag now "
   ]
  },
  {
   "cell_type": "code",
   "execution_count": 82,
   "metadata": {
    "collapsed": false
   },
   "outputs": [],
   "source": [
    "Feature_p=pd.read_csv(\"Intermediate/feature_p.csv\",sep=\",\",encoding='utf8')"
   ]
  },
  {
   "cell_type": "code",
   "execution_count": 83,
   "metadata": {
    "collapsed": false
   },
   "outputs": [
    {
     "data": {
      "text/html": [
       "<div style=\"max-height:1000px;max-width:1500px;overflow:auto;\">\n",
       "<table border=\"1\" class=\"dataframe\">\n",
       "  <thead>\n",
       "    <tr style=\"text-align: right;\">\n",
       "      <th></th>\n",
       "      <th>Product Tag</th>\n",
       "      <th>Values</th>\n",
       "    </tr>\n",
       "  </thead>\n",
       "  <tbody>\n",
       "    <tr>\n",
       "      <th>0</th>\n",
       "      <td>           螢光筆</td>\n",
       "      <td>-0.000083</td>\n",
       "    </tr>\n",
       "    <tr>\n",
       "      <th>1</th>\n",
       "      <td>            鍊子</td>\n",
       "      <td>-0.000090</td>\n",
       "    </tr>\n",
       "    <tr>\n",
       "      <th>2</th>\n",
       "      <td>            平安</td>\n",
       "      <td>-0.000291</td>\n",
       "    </tr>\n",
       "    <tr>\n",
       "      <th>3</th>\n",
       "      <td>          寬版洋裝</td>\n",
       "      <td>-0.000017</td>\n",
       "    </tr>\n",
       "    <tr>\n",
       "      <th>4</th>\n",
       "      <td> hand-painting</td>\n",
       "      <td>-0.000038</td>\n",
       "    </tr>\n",
       "  </tbody>\n",
       "</table>\n",
       "</div>"
      ],
      "text/plain": [
       "     Product Tag    Values\n",
       "0            �Ｗ�蝑�-0.000083\n",
       "1             ��� -0.000090\n",
       "2             撟喳� -0.000291\n",
       "3           撖祉�瘣�� -0.000017\n",
       "4  hand-painting -0.000038"
      ]
     },
     "execution_count": 83,
     "metadata": {},
     "output_type": "execute_result"
    }
   ],
   "source": [
    "Feature_p.head()"
   ]
  },
  {
   "cell_type": "code",
   "execution_count": 84,
   "metadata": {
    "collapsed": false
   },
   "outputs": [],
   "source": [
    "Feature_filter=list(Feature_p['Product Tag'])"
   ]
  },
  {
   "cell_type": "code",
   "execution_count": 85,
   "metadata": {
    "collapsed": false
   },
   "outputs": [],
   "source": [
    "for i in xrange(len(UserDf)):\n",
    "    UserDf.ix[i,'Product Tag']=\",\".join(list(set(UserDf.ix[i,'Product Tag'].split(\",\")).intersection(set(Feature_filter))))\n",
    "    if UserDf.ix[i,'Product Tag'] is np.nan:\n",
    "        UserDf.ix[i,'Product Tag']=UserDf.ix[i,'subcategory']"
   ]
  },
  {
   "cell_type": "markdown",
   "metadata": {},
   "source": [
    "## Adding some browsing records and new user\n",
    "Here we define new user as an user who has an account but no pruchase record. We assume the number of new user is 0.05*number of old user"
   ]
  },
  {
   "cell_type": "markdown",
   "metadata": {},
   "source": [
    "###Adding new user"
   ]
  },
  {
   "cell_type": "code",
   "execution_count": 86,
   "metadata": {
    "collapsed": false
   },
   "outputs": [],
   "source": [
    "p=0.05\n",
    "new_num=p*len(UserDf)\n",
    "User_new=pd.DataFrame(data=0,index=range(int(new_num)),columns=UserDf.columns)\n",
    "UserDf=pd.concat([UserDf,User_new],axis=0)"
   ]
  },
  {
   "cell_type": "code",
   "execution_count": 87,
   "metadata": {
    "collapsed": false
   },
   "outputs": [],
   "source": [
    "UserDf.index=range(len(UserDf))"
   ]
  },
  {
   "cell_type": "code",
   "execution_count": 88,
   "metadata": {
    "collapsed": false
   },
   "outputs": [
    {
     "data": {
      "text/html": [
       "<div style=\"max-height:1000px;max-width:1500px;overflow:auto;\">\n",
       "<table border=\"1\" class=\"dataframe\">\n",
       "  <thead>\n",
       "    <tr style=\"text-align: right;\">\n",
       "      <th></th>\n",
       "      <th>UID</th>\n",
       "      <th>designer</th>\n",
       "      <th>tid</th>\n",
       "      <th>subcategory</th>\n",
       "      <th>Product Tag</th>\n",
       "      <th>Content weight</th>\n",
       "      <th>Style weight</th>\n",
       "    </tr>\n",
       "  </thead>\n",
       "  <tbody>\n",
       "    <tr>\n",
       "      <th>0</th>\n",
       "      <td> 0</td>\n",
       "      <td> panicjunkie,beanbeancase,lovespringtime,innere...</td>\n",
       "      <td> 1LNcMozq,1fKcWUPZ,1dWKrV5w,1NrPloT8,1xo784ZW,1...</td>\n",
       "      <td> iPhone 週邊,Android 週邊,肩背包/斜背包,平板/電腦保護套,電腦包,束口後背...</td>\n",
       "      <td> 三星,google,htc,押花,nexus,note5,自然,特別,iPhone 週邊,禮...</td>\n",
       "      <td> 0.050896</td>\n",
       "      <td> 0.949104</td>\n",
       "    </tr>\n",
       "    <tr>\n",
       "      <th>1</th>\n",
       "      <td> 1</td>\n",
       "      <td> edie,googoods,wakakuwa,kimmidoll,wunghuh,daffo...</td>\n",
       "      <td> 1R9IzDnu,149GTys_,18H5ZFLX,159QNvoZ,1z4JPC9Z,1...</td>\n",
       "      <td> 胸針,項鍊/墜子,髮飾,鑰匙圈/鑰匙包,耳環,胸針,項鍊/墜子,髮飾,鑰匙圈/鑰匙包,耳環,...</td>\n",
       "      <td> fashion,羊毛氈,日本花簪,項鍊,胸章,兒童,迷你小相本鑰匙圈◆幾何系列◆,desig...</td>\n",
       "      <td> 0.806415</td>\n",
       "      <td> 0.193585</td>\n",
       "    </tr>\n",
       "    <tr>\n",
       "      <th>2</th>\n",
       "      <td> 2</td>\n",
       "      <td> deliatai,oone-n-only,tsukiniyorosiku,twine,ses...</td>\n",
       "      <td> 1EB9FX2e,1MZaVziY,1YY6E82N,1TaTLdiX,14yhgn_L,1...</td>\n",
       "      <td> 胸針,項鍊/墜子,髮飾,鑰匙圈/鑰匙包,耳環,胸針,項鍊/墜子,髮飾,鑰匙圈/鑰匙包,耳環,...</td>\n",
       "      <td> ses,胸章,鑰匙圈,創意,design,純銀項鍊,韓風髮箍,kkk.首飾りnecklace...</td>\n",
       "      <td> 0.036503</td>\n",
       "      <td> 0.963497</td>\n",
       "    </tr>\n",
       "    <tr>\n",
       "      <th>3</th>\n",
       "      <td> 3</td>\n",
       "      <td> iamidesign,littleprince,everythinginbetween,si...</td>\n",
       "      <td>      14Rq3sEa,1VTZwwBQ,1xoV23DQ,1f1NhrOS,1XBJ0jUP</td>\n",
       "      <td>         iPhone 週邊,Android 週邊,肩背包/斜背包,平板/電腦保護套,其他7</td>\n",
       "      <td> mini,love,cute,萌,悠遊卡手機殼,ipadmini,貓,可愛,悠遊卡保護殼,i...</td>\n",
       "      <td> 0.883987</td>\n",
       "      <td> 0.116013</td>\n",
       "    </tr>\n",
       "    <tr>\n",
       "      <th>4</th>\n",
       "      <td> 4</td>\n",
       "      <td> bang-on-shop,pollinosis,lunablue,nadia,ishan13...</td>\n",
       "      <td> 1xfaWs4D,1lwO72OY,1unlj5pu,1ukhY4Bu,1xHzNBML,1...</td>\n",
       "      <td> 胸針,項鍊/墜子,髮飾,鑰匙圈/鑰匙包,耳環,胸針,項鍊/墜子,髮飾,鑰匙圈/鑰匙包,耳環,...</td>\n",
       "      <td> 雙鍊,小物,項鍊,仿珍珠,蕾絲,施華洛世奇水晶,懷錶,創意,design,婚禮,復古手工耳環...</td>\n",
       "      <td> 0.591378</td>\n",
       "      <td> 0.408622</td>\n",
       "    </tr>\n",
       "  </tbody>\n",
       "</table>\n",
       "</div>"
      ],
      "text/plain": [
       "  UID                                           designer  \\\n",
       "0   0  panicjunkie,beanbeancase,lovespringtime,innere...   \n",
       "1   1  edie,googoods,wakakuwa,kimmidoll,wunghuh,daffo...   \n",
       "2   2  deliatai,oone-n-only,tsukiniyorosiku,twine,ses...   \n",
       "3   3  iamidesign,littleprince,everythinginbetween,si...   \n",
       "4   4  bang-on-shop,pollinosis,lunablue,nadia,ishan13...   \n",
       "\n",
       "                                                 tid  \\\n",
       "0  1LNcMozq,1fKcWUPZ,1dWKrV5w,1NrPloT8,1xo784ZW,1...   \n",
       "1  1R9IzDnu,149GTys_,18H5ZFLX,159QNvoZ,1z4JPC9Z,1...   \n",
       "2  1EB9FX2e,1MZaVziY,1YY6E82N,1TaTLdiX,14yhgn_L,1...   \n",
       "3       14Rq3sEa,1VTZwwBQ,1xoV23DQ,1f1NhrOS,1XBJ0jUP   \n",
       "4  1xfaWs4D,1lwO72OY,1unlj5pu,1ukhY4Bu,1xHzNBML,1...   \n",
       "\n",
       "                                         subcategory  \\\n",
       "0  iPhone �梢�,Android �梢�,�抵��������撟單�/�餉�靽�風憟��餉������敺��...   \n",
       "1  �賊�,���/憓��,擃桅ˇ,�啣����啣����喟�,�賊�,���/憓��,擃桅ˇ,�啣����啣����喟�,...   \n",
       "2  �賊�,���/憓��,擃桅ˇ,�啣����啣����喟�,�賊�,���/憓��,擃桅ˇ,�啣����啣����喟�,...   \n",
       "3          iPhone �梢�,Android �梢�,�抵��������撟單�/�餉�靽�風憟��嗡�7   \n",
       "4  �賊�,���/憓��,擃桅ˇ,�啣����啣����喟�,�賊�,���/憓��,擃桅ˇ,�啣����啣����喟�,...   \n",
       "\n",
       "                                         Product Tag  Content weight  \\\n",
       "0  銝��,google,htc,�潸�,nexus,note5,�芰�,�孵�,iPhone �梢�,蝳�..        0.050896   \n",
       "1  fashion,蝢��瘞��交��梁高,���,�貊�,��咱,餈瑚�撠���祇������嗾雿�頂���,desig...        0.806415   \n",
       "2  ses,�貊�,�啣����菜�,design,蝝�����,��◢擃桃�,kkk.擐�ˇ��ecklace...        0.036503   \n",
       "3  mini,love,cute,������⊥�璈�挺,ipadmini,鞎��舀�,����∩�霅瑟挺,i...        0.883987   \n",
       "4  ���,撠��,���,隞輻����曄結,�質�瘣��憟�偌���琿�,�菜�,design,憍�旨,敺拙���極�喟�...        0.591378   \n",
       "\n",
       "   Style weight  \n",
       "0      0.949104  \n",
       "1      0.193585  \n",
       "2      0.963497  \n",
       "3      0.116013  \n",
       "4      0.408622  "
      ]
     },
     "execution_count": 88,
     "metadata": {},
     "output_type": "execute_result"
    }
   ],
   "source": [
    "UserDf.head()"
   ]
  },
  {
   "cell_type": "markdown",
   "metadata": {},
   "source": [
    "###Add Browing records"
   ]
  },
  {
   "cell_type": "code",
   "execution_count": 89,
   "metadata": {
    "collapsed": false
   },
   "outputs": [],
   "source": [
    "tid=pd.read_csv(\"Intermediate/tid.csv\",sep=\",\",encoding='utf8')"
   ]
  },
  {
   "cell_type": "code",
   "execution_count": 90,
   "metadata": {
    "collapsed": false
   },
   "outputs": [],
   "source": [
    "browse_list=tid['tid']"
   ]
  },
  {
   "cell_type": "code",
   "execution_count": 91,
   "metadata": {
    "collapsed": false
   },
   "outputs": [],
   "source": [
    "for i in xrange(len(UserDf)):\n",
    "    browse_num=np.random.randint(0,5,1)\n",
    "    if browse_num==0:\n",
    "         UserDf.ix[i,'Browse']=0\n",
    "    else:    \n",
    "        browse_item=list(browse_list[np.random.choice(len(browse_list),browse_num)])\n",
    "        browse=\",\".join(browse_item)\n",
    "        UserDf.ix[i,'Browse']=browse"
   ]
  },
  {
   "cell_type": "code",
   "execution_count": 94,
   "metadata": {
    "collapsed": true
   },
   "outputs": [],
   "source": [
    "for i in xrange(len(UserDf)):\n",
    "    if UserDf.ix[i,'Product Tag'] is np.nan:\n",
    "        print i\n",
    "    else:\n",
    "        continue"
   ]
  },
  {
   "cell_type": "code",
   "execution_count": 65,
   "metadata": {
    "collapsed": false
   },
   "outputs": [],
   "source": [
    "UserDf['Product Tag']=UserDf['Product Tag'].fillna(u'0')"
   ]
  },
  {
   "cell_type": "code",
   "execution_count": 95,
   "metadata": {
    "collapsed": true
   },
   "outputs": [],
   "source": [
    "UserDf.to_csv(\"Intermediate/SimUserData.csv\",sep=\",\",encoding='utf8',index=False)"
   ]
  }
 ],
 "metadata": {
  "kernelspec": {
   "display_name": "Python 2",
   "language": "python",
   "name": "python2"
  },
  "language_info": {
   "codemirror_mode": {
    "name": "ipython",
    "version": 2
   },
   "file_extension": ".py",
   "mimetype": "text/x-python",
   "name": "python",
   "nbconvert_exporter": "python",
   "pygments_lexer": "ipython2",
   "version": "2.7.9"
  }
 },
 "nbformat": 4,
 "nbformat_minor": 0
}
