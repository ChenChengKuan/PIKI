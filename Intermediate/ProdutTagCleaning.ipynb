{
 "cells": [
  {
   "cell_type": "markdown",
   "metadata": {},
   "source": [
    "#ProductTag Cleaning\n",
    "In this section, we aim to find the similarity among subcategory. This similarity will be used to build the recommender engine. We reduce feature space by applying the idea of TF-IDF as we did in Exploratary Analysis-Designer. However, we calculate by inner product directly instead of applying K-mean because we already know exactly the number of groups "
   ]
  },
  {
   "cell_type": "markdown",
   "metadata": {},
   "source": [
    "## Description of data set\n",
    "\n",
    "The data was colleced from Pinkoi website. The date of collection is from 12/17 0800 12/19 0800\n",
    "\n",
    "##Field\n",
    "* subcategory: the subcategory the products belong to, string\n",
    "* Product Tag: tags of the product, string\n",
    "* tid: the unique id of the product, string"
   ]
  },
  {
   "cell_type": "markdown",
   "metadata": {},
   "source": [
    "The following step is similar to the ExploratoryAnalysis-Designer. We calculate the TF-IDF score to eliminate rare tag"
   ]
  },
  {
   "cell_type": "code",
   "execution_count": 1,
   "metadata": {
    "collapsed": true
   },
   "outputs": [],
   "source": [
    "import pandas as pd\n",
    "import numpy as np"
   ]
  },
  {
   "cell_type": "code",
   "execution_count": 2,
   "metadata": {
    "collapsed": false
   },
   "outputs": [],
   "source": [
    "data=pd.read_csv(\"Intermediate/data_final.csv\",sep=\",\",encoding='utf8',low_memory=False)"
   ]
  },
  {
   "cell_type": "code",
   "execution_count": 3,
   "metadata": {
    "collapsed": false
   },
   "outputs": [],
   "source": [
    "Product=data[['tid','subcategory','Product Tag']]"
   ]
  },
  {
   "cell_type": "code",
   "execution_count": 4,
   "metadata": {
    "collapsed": false
   },
   "outputs": [
    {
     "data": {
      "text/html": [
       "<div style=\"max-height:1000px;max-width:1500px;overflow:auto;\">\n",
       "<table border=\"1\" class=\"dataframe\">\n",
       "  <thead>\n",
       "    <tr style=\"text-align: right;\">\n",
       "      <th></th>\n",
       "      <th>tid</th>\n",
       "      <th>subcategory</th>\n",
       "      <th>Product Tag</th>\n",
       "    </tr>\n",
       "  </thead>\n",
       "  <tbody>\n",
       "    <tr>\n",
       "      <th>0</th>\n",
       "      <td> 1fAYZRbb</td>\n",
       "      <td>   紙膠帶</td>\n",
       "      <td>              紙膠帶</td>\n",
       "    </tr>\n",
       "    <tr>\n",
       "      <th>1</th>\n",
       "      <td> 1Wpbjtdt</td>\n",
       "      <td> 糖果/軟糖</td>\n",
       "      <td>  乾果醬,交換禮物,繽紛,聖誕節</td>\n",
       "    </tr>\n",
       "    <tr>\n",
       "      <th>2</th>\n",
       "      <td> 1cf23LXr</td>\n",
       "      <td>   手提包</td>\n",
       "      <td>              手提帶</td>\n",
       "    </tr>\n",
       "    <tr>\n",
       "      <th>3</th>\n",
       "      <td> 1XkKaVA0</td>\n",
       "      <td>    髮飾</td>\n",
       "      <td>       好煩小姐,髮帶,點點</td>\n",
       "    </tr>\n",
       "    <tr>\n",
       "      <th>4</th>\n",
       "      <td> 1cDqf1tY</td>\n",
       "      <td>    髮飾</td>\n",
       "      <td> 好煩小姐,復古,手作,混織,髮帶</td>\n",
       "    </tr>\n",
       "  </tbody>\n",
       "</table>\n",
       "</div>"
      ],
      "text/plain": [
       "        tid subcategory       Product Tag\n",
       "0  1fAYZRbb         蝝��撣�              蝝��撣�\n",
       "1  1Wpbjtdt       蝟��/頠��   銋暹���鈭斗�蝳桃�,蝜賜�,���蝭�\n",
       "2  1cf23LXr         �����              ���撣�\n",
       "3  1XkKaVA0          擃桅ˇ        憟賜�撠��,擃桀葆,暺��\n",
       "4  1cDqf1tY          擃桅ˇ  憟賜�撠��,敺拙�,���,瘛瑞�,擃桀葆"
      ]
     },
     "execution_count": 4,
     "metadata": {},
     "output_type": "execute_result"
    }
   ],
   "source": [
    "Product.head()"
   ]
  },
  {
   "cell_type": "code",
   "execution_count": 5,
   "metadata": {
    "collapsed": false
   },
   "outputs": [],
   "source": [
    "#We use subcategory as a key and Product Tag as a value to combine\n",
    "Product_group=Product.groupby('subcategory')['Product Tag'].apply(lambda x:\",\".join(x))"
   ]
  },
  {
   "cell_type": "code",
   "execution_count": 30,
   "metadata": {
    "collapsed": true
   },
   "outputs": [],
   "source": [
    "def ReduceByKeys(x):\n",
    "    L=x.split(\",\")\n",
    "    D={}.fromkeys(L,0)\n",
    "    \n",
    "    for e in L:\n",
    "        D[e]+=1.0\n",
    "    return D "
   ]
  },
  {
   "cell_type": "code",
   "execution_count": 31,
   "metadata": {
    "collapsed": false
   },
   "outputs": [],
   "source": [
    "Product_dic=[ReduceByKey(e) for e in Product_group]"
   ]
  },
  {
   "cell_type": "code",
   "execution_count": 32,
   "metadata": {
    "collapsed": false
   },
   "outputs": [],
   "source": [
    "def parse_pdtag(pdtag):\n",
    "    Pd=[]\n",
    "    \n",
    "    for e in pdtag:\n",
    "        Pd.extend(e.keys())\n",
    "    return list(set(Pd))"
   ]
  },
  {
   "cell_type": "code",
   "execution_count": 35,
   "metadata": {
    "collapsed": true
   },
   "outputs": [],
   "source": [
    "def TF_IDF_tag(d_list):\n",
    "    tf_list=[]\n",
    "    idf_list=[]\n",
    "    for t in Product_tag:\n",
    "        #print t\n",
    "     \n",
    "        idf=0.0\n",
    "        tf=0.0\n",
    "        for d in d_list:\n",
    "            if t in d.keys():\n",
    "                tf+=d[t]\n",
    "                idf+=1.0\n",
    "            else:\n",
    "                continue\n",
    "        #print tf\n",
    "        #print idf\n",
    "        tf_list.append(tf)\n",
    "        idf_list.append(idf)\n",
    "        #print tf_list\n",
    "        #print idf_list\n",
    "    #print tf_list\n",
    "    TF_IDF=[((e[0]/max(tf_list)))/np.log10(e[1]/len(d_list)) if e[0]!=0 else -1000 for e in zip(tf_list,idf_list) ]\n",
    "    Dominant_f=[(e[0],e[1]) for e in zip(Product_tag,TF_IDF) if (e[1]<np.percentile(TF_IDF,71)) and (e[1]!=1000)]\n",
    "    return TF_IDF,max(tf_list),Dominant_f"
   ]
  },
  {
   "cell_type": "code",
   "execution_count": 36,
   "metadata": {
    "collapsed": false
   },
   "outputs": [],
   "source": [
    "Product_tag=parse_pdtag(Product_dic)"
   ]
  },
  {
   "cell_type": "code",
   "execution_count": 37,
   "metadata": {
    "collapsed": false
   },
   "outputs": [
    {
     "data": {
      "text/plain": [
       "183"
      ]
     },
     "execution_count": 37,
     "metadata": {},
     "output_type": "execute_result"
    }
   ],
   "source": [
    "len(Product_dic)"
   ]
  },
  {
   "cell_type": "code",
   "execution_count": 39,
   "metadata": {
    "collapsed": false
   },
   "outputs": [],
   "source": [
    "Tf_Idf_score,max_tf,Dominant_feature=TF_IDF_tag(Product_dic)"
   ]
  },
  {
   "cell_type": "code",
   "execution_count": 43,
   "metadata": {
    "collapsed": false
   },
   "outputs": [
    {
     "data": {
      "text/plain": [
       "-8.2653621308803749e-06"
      ]
     },
     "execution_count": 43,
     "metadata": {},
     "output_type": "execute_result"
    }
   ],
   "source": [
    "np.percentile(Tf_Idf_score,71)"
   ]
  },
  {
   "cell_type": "markdown",
   "metadata": {},
   "source": [
    "Based on obervation, score above 71 percentile=-8.2653e-06. This score happened when the tag appear only once in only one subcategory, which is too rare. We eliminate all tags with this score"
   ]
  },
  {
   "cell_type": "code",
   "execution_count": 44,
   "metadata": {
    "collapsed": false
   },
   "outputs": [
    {
     "data": {
      "text/plain": [
       "31349"
      ]
     },
     "execution_count": 44,
     "metadata": {},
     "output_type": "execute_result"
    }
   ],
   "source": [
    "len(Product_tag)"
   ]
  },
  {
   "cell_type": "code",
   "execution_count": 45,
   "metadata": {
    "collapsed": false
   },
   "outputs": [
    {
     "data": {
      "text/plain": [
       "22024"
      ]
     },
     "execution_count": 45,
     "metadata": {},
     "output_type": "execute_result"
    }
   ],
   "source": [
    "len(Dominant_feature)"
   ]
  },
  {
   "cell_type": "code",
   "execution_count": 62,
   "metadata": {
    "collapsed": false
   },
   "outputs": [],
   "source": [
    "#Just save the feature\n",
    "D=[]\n",
    "V=[]\n",
    "for i in Dominant_feature:\n",
    "    D.append(i[0])\n",
    "    V.append(i[1])\n",
    "df_p=pd.DataFrame(index=range(len(Dominant_feature)),columns=['Product Tag','Values'])\n",
    "df_p['Product Tag']=D\n",
    "df_p['Values']=V\n",
    "df_p.to_csv(\"Intermediate/feature_p.csv\",sep=\",\",encoding='utf8',index=False)\n"
   ]
  }
 ],
 "metadata": {
  "kernelspec": {
   "display_name": "Python 2",
   "language": "python",
   "name": "python2"
  },
  "language_info": {
   "codemirror_mode": {
    "name": "ipython",
    "version": 2
   },
   "file_extension": ".py",
   "mimetype": "text/x-python",
   "name": "python",
   "nbconvert_exporter": "python",
   "pygments_lexer": "ipython2",
   "version": "2.7.9"
  }
 },
 "nbformat": 4,
 "nbformat_minor": 0
}
